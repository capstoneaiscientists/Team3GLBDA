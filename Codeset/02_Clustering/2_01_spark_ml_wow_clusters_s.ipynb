{
 "cells": [
  {
   "cell_type": "markdown",
   "metadata": {},
   "source": [
    "<html>\n",
    "<font color = green size = 6>\n",
    "<b>\n",
    "KMeans Clustering for Data Exploration\n",
    "</b>\n",
    "</font>\n",
    "</html>"
   ]
  },
  {
   "cell_type": "code",
   "execution_count": 1,
   "metadata": {
    "collapsed": true
   },
   "outputs": [],
   "source": [
    "from pyspark import SparkContext\n",
    "from pyspark.sql import SQLContext\n",
    "import pyspark.sql.types as typ\n",
    "sc = SparkContext.getOrCreate()\n",
    "spark = SQLContext(sc)"
   ]
  },
  {
   "cell_type": "code",
   "execution_count": 2,
   "metadata": {
    "collapsed": true
   },
   "outputs": [],
   "source": [
    "refined_df = spark.read.csv(path = \"newlogs.csv\", header = True,inferSchema = True)"
   ]
  },
  {
   "cell_type": "code",
   "execution_count": 3,
   "metadata": {},
   "outputs": [
    {
     "name": "stdout",
     "output_type": "stream",
     "text": [
      "root\n",
      " |-- _c0: integer (nullable = true)\n",
      " |-- QueryTime: string (nullable = true)\n",
      " |-- QuerySeq: integer (nullable = true)\n",
      " |-- AvatarID: integer (nullable = true)\n",
      " |-- Guild: string (nullable = true)\n",
      " |-- Level: integer (nullable = true)\n",
      " |-- Race: string (nullable = true)\n",
      " |-- Class: string (nullable = true)\n",
      " |-- Zone: string (nullable = true)\n",
      "\n"
     ]
    }
   ],
   "source": [
    "refined_df.printSchema()"
   ]
  },
  {
   "cell_type": "code",
   "execution_count": 4,
   "metadata": {
    "collapsed": true
   },
   "outputs": [],
   "source": [
    "cluster_df = refined_df[\"Guild\", \"Level\", \"Race\", \"Class\", \"AvatarID\",\"Zone\"]"
   ]
  },
  {
   "cell_type": "markdown",
   "metadata": {
    "collapsed": true
   },
   "source": [
    "<html>\n",
    "<font color = Red size = 6>\n",
    "<b> Creating Transformers</b>\n",
    "</font>\n",
    "</html>"
   ]
  },
  {
   "cell_type": "markdown",
   "metadata": {},
   "source": [
    "<html>\n",
    "<font color = Purple size = 4>\n",
    "<b> Encoding</b>\n",
    "</font>\n",
    "</html>"
   ]
  },
  {
   "cell_type": "code",
   "execution_count": 5,
   "metadata": {
    "collapsed": true
   },
   "outputs": [],
   "source": [
    "from pyspark.ml import Pipeline\n",
    "from pyspark.ml.feature import OneHotEncoder, StringIndexer, VectorAssembler, VectorIndexer"
   ]
  },
  {
   "cell_type": "markdown",
   "metadata": {},
   "source": [
    "<html>\n",
    "<font color = blue>\n",
    "<b> \n",
    "To encode the Guild, Level, Class, Race and Zone columns, we will use the OneHotEncoder method.\n",
    "However, the method cannot accept StringType columns; it can only deal with\n",
    "numeric types so first we will cast the columns to IntegerType.\n",
    "</b>\n",
    "</font>\n",
    "</html>"
   ]
  },
  {
   "cell_type": "code",
   "execution_count": 6,
   "metadata": {
    "collapsed": true
   },
   "outputs": [],
   "source": [
    "categoricalColumns = [\"Guild\", \"Race\", \"Class\"]\n",
    "stages = []\n",
    "for i in categoricalColumns:\n",
    "    # Category Indexing with StringIndexer\n",
    "    stringIndexer = StringIndexer(inputCol=i, outputCol=i+\"Index\")\n",
    "    # Use OneHotEncoder to convert categorical variables into binary SparseVectors\n",
    "    encoder = OneHotEncoder(inputCol=i+\"Index\", outputCol=i+\"classVec\")\n",
    "    stages += [stringIndexer, encoder]           "
   ]
  },
  {
   "cell_type": "markdown",
   "metadata": {},
   "source": [
    "<html>\n",
    "<font color = Purple size = 4>\n",
    "<b> Transform all features into a vector using VectorAssembler</b>\n",
    "</font>\n",
    "</html>"
   ]
  },
  {
   "cell_type": "code",
   "execution_count": 7,
   "metadata": {
    "collapsed": true
   },
   "outputs": [],
   "source": [
    "assemblerinputsmap = map(lambda c: c + \"classVec\", categoricalColumns)"
   ]
  },
  {
   "cell_type": "markdown",
   "metadata": {},
   "source": [
    "<html>\n",
    "<font color = Purple size = 4>\n",
    "<b> In Python 3 map cannot be added with list and hence using chain to convert it to list</b>\n",
    "</font>\n",
    "</html>"
   ]
  },
  {
   "cell_type": "code",
   "execution_count": 8,
   "metadata": {
    "collapsed": true
   },
   "outputs": [],
   "source": [
    "from itertools import chain\n",
    "classvecinputs = []\n",
    "for i in chain(assemblerinputsmap):\n",
    "    classvecinputs.append(i)"
   ]
  },
  {
   "cell_type": "code",
   "execution_count": 9,
   "metadata": {
    "collapsed": true
   },
   "outputs": [],
   "source": [
    "numericCols = [\"Level\"]\n",
    "assemblerinputs = classvecinputs + numericCols"
   ]
  },
  {
   "cell_type": "code",
   "execution_count": 10,
   "metadata": {
    "collapsed": true
   },
   "outputs": [],
   "source": [
    "assembler = VectorAssembler(inputCols=assemblerinputs, outputCol=\"features\")\n",
    "stages += [assembler]"
   ]
  },
  {
   "cell_type": "markdown",
   "metadata": {},
   "source": [
    "<html>\n",
    "<font color = Red size = 6>\n",
    "<b> KMeans clustering</b>\n",
    "</font>\n",
    "</html>\n"
   ]
  },
  {
   "cell_type": "code",
   "execution_count": 11,
   "metadata": {
    "collapsed": true
   },
   "outputs": [],
   "source": [
    "import pyspark.ml.clustering as clus\n",
    "kmeans = clus.KMeans(k = 6,featuresCol='features')\n",
    "stages += [kmeans]"
   ]
  },
  {
   "cell_type": "code",
   "execution_count": 12,
   "metadata": {
    "collapsed": true
   },
   "outputs": [],
   "source": [
    "# Create a Pipeline.\n",
    "pipeline = Pipeline(stages=stages)"
   ]
  },
  {
   "cell_type": "code",
   "execution_count": 13,
   "metadata": {
    "collapsed": true
   },
   "outputs": [],
   "source": [
    "pipelineModel = pipeline.fit(cluster_df)"
   ]
  },
  {
   "cell_type": "code",
   "execution_count": 14,
   "metadata": {
    "collapsed": true
   },
   "outputs": [],
   "source": [
    "cluster_df = pipelineModel.transform(cluster_df)"
   ]
  },
  {
   "cell_type": "code",
   "execution_count": 15,
   "metadata": {},
   "outputs": [
    {
     "name": "stdout",
     "output_type": "stream",
     "text": [
      "root\n",
      " |-- Guild: string (nullable = true)\n",
      " |-- Level: integer (nullable = true)\n",
      " |-- Race: string (nullable = true)\n",
      " |-- Class: string (nullable = true)\n",
      " |-- AvatarID: integer (nullable = true)\n",
      " |-- Zone: string (nullable = true)\n",
      " |-- GuildIndex: double (nullable = true)\n",
      " |-- GuildclassVec: vector (nullable = true)\n",
      " |-- RaceIndex: double (nullable = true)\n",
      " |-- RaceclassVec: vector (nullable = true)\n",
      " |-- ClassIndex: double (nullable = true)\n",
      " |-- ClassclassVec: vector (nullable = true)\n",
      " |-- features: vector (nullable = true)\n",
      " |-- prediction: integer (nullable = true)\n",
      "\n"
     ]
    }
   ],
   "source": [
    "cluster_df.printSchema()"
   ]
  },
  {
   "cell_type": "code",
   "execution_count": 16,
   "metadata": {
    "collapsed": true
   },
   "outputs": [],
   "source": [
    "final_cluster_df = cluster_df[\"AvatarID\", \"Guild\", \"Level\", \"Race\", \"Class\", \"Zone\",\"prediction\"]"
   ]
  },
  {
   "cell_type": "markdown",
   "metadata": {},
   "source": [
    "<html>\n",
    "<font color = blue>\n",
    "<b> \n",
    "To store as spark partitioned files\n",
    "</b>\n",
    "</font>\n",
    "</html>"
   ]
  },
  {
   "cell_type": "markdown",
   "metadata": {
    "collapsed": true
   },
   "source": [
    "final_cluster_df.repartition(1).write.csv('SixClusters.csv')"
   ]
  },
  {
   "cell_type": "code",
   "execution_count": 3,
   "metadata": {},
   "outputs": [],
   "source": [
    "cluster = spark.read.csv(path = \"SixClusters.csv\", inferSchema = True)"
   ]
  },
  {
   "cell_type": "code",
   "execution_count": 4,
   "metadata": {},
   "outputs": [
    {
     "name": "stdout",
     "output_type": "stream",
     "text": [
      "root\n",
      " |-- _c0: integer (nullable = true)\n",
      " |-- _c1: integer (nullable = true)\n",
      " |-- _c2: integer (nullable = true)\n",
      " |-- _c3: string (nullable = true)\n",
      " |-- _c4: string (nullable = true)\n",
      " |-- _c5: string (nullable = true)\n",
      " |-- _c6: integer (nullable = true)\n",
      "\n"
     ]
    }
   ],
   "source": [
    "cluster.printSchema()"
   ]
  },
  {
   "cell_type": "code",
   "execution_count": 5,
   "metadata": {
    "collapsed": true
   },
   "outputs": [],
   "source": [
    "cluster = cluster.withColumnRenamed(\"_c0\",\"AvatarID\").withColumnRenamed(\"_c1\",\"Guild\").withColumnRenamed(\"_c2\",\"Level\").withColumnRenamed(\"_c3\",\"Race\").withColumnRenamed(\"_c4\",\"Class\").withColumnRenamed(\"_c5\",\"Zone\").withColumnRenamed(\"_c6\",\"Prediction\")"
   ]
  },
  {
   "cell_type": "code",
   "execution_count": 6,
   "metadata": {},
   "outputs": [
    {
     "name": "stdout",
     "output_type": "stream",
     "text": [
      "+--------+-----+-----+----+-------+-------+----------+\n",
      "|AvatarID|Guild|Level|Race|  Class|   Zone|Prediction|\n",
      "+--------+-----+-----+----+-------+-------+----------+\n",
      "|       0| null|    5| Orc|Warrior|Durotar|         3|\n",
      "|       1| null|    9| Orc| Shaman|Durotar|         3|\n",
      "|       2| null|   13| Orc| Shaman|Durotar|         3|\n",
      "|       3|    0|   14| Orc|Warrior|Durotar|         3|\n",
      "|       4| null|   14| Orc| Shaman|Durotar|         3|\n",
      "+--------+-----+-----+----+-------+-------+----------+\n",
      "only showing top 5 rows\n",
      "\n"
     ]
    }
   ],
   "source": [
    "cluster.show(5)"
   ]
  },
  {
   "cell_type": "markdown",
   "metadata": {},
   "source": [
    "<html>\n",
    "<font color = blue>\n",
    "<b> \n",
    "Now we have the data grouped into 6 clusters. Further detailed Exploratory Analysis on these clusters are performed in the Tableau File: ClusterAnalysis.twbx\n",
    "</b>\n",
    "</font>\n",
    "</html>"
   ]
  }
 ],
 "metadata": {
  "kernelspec": {
   "display_name": "Python 3",
   "language": "python",
   "name": "python3"
  },
  "language_info": {
   "codemirror_mode": {
    "name": "ipython",
    "version": 3
   },
   "file_extension": ".py",
   "mimetype": "text/x-python",
   "name": "python",
   "nbconvert_exporter": "python",
   "pygments_lexer": "ipython3",
   "version": "3.6.3"
  }
 },
 "nbformat": 4,
 "nbformat_minor": 2
}
