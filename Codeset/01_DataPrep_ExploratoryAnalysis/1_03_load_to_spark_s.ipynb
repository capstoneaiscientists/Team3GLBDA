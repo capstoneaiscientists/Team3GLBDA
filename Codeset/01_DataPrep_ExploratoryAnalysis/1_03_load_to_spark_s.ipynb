{
 "cells": [
  {
   "cell_type": "markdown",
   "metadata": {},
   "source": [
    "<html>\n",
    "<font color = Purple size = 4>\n",
    "\n",
    "</font>\n",
    "</html>"
   ]
  },
  {
   "cell_type": "markdown",
   "metadata": {},
   "source": [
    "<html>\n",
    "<font color = Green size = 6>\n",
    "<b> Steps to load World of Warcraft data as Spark RDD for large scale computations</b>\n",
    "</font>\n",
    "</html>"
   ]
  },
  {
   "cell_type": "code",
   "execution_count": 1,
   "metadata": {
    "collapsed": true
   },
   "outputs": [],
   "source": [
    "from pyspark import SparkContext\n",
    "from pyspark.sql import SQLContext\n",
    "sc = SparkContext.getOrCreate()\n",
    "spark = SQLContext(sc)"
   ]
  },
  {
   "cell_type": "code",
   "execution_count": 2,
   "metadata": {
    "collapsed": true
   },
   "outputs": [],
   "source": [
    "df_load = sc.textFile('H:\\Output\\newlogs.csv')"
   ]
  },
  {
   "cell_type": "code",
   "execution_count": 3,
   "metadata": {},
   "outputs": [
    {
     "data": {
      "text/plain": [
       "pyspark.rdd.RDD"
      ]
     },
     "execution_count": 3,
     "metadata": {},
     "output_type": "execute_result"
    }
   ],
   "source": [
    "type(df_load)"
   ]
  },
  {
   "cell_type": "code",
   "execution_count": 4,
   "metadata": {
    "collapsed": true
   },
   "outputs": [],
   "source": [
    "raw = df_load.map(lambda x:x.split(\",\"))"
   ]
  },
  {
   "cell_type": "code",
   "execution_count": 5,
   "metadata": {
    "collapsed": true
   },
   "outputs": [],
   "source": [
    "refined = raw.map(lambda x: [x[1], x[2], x[3],x[4], x[5],x[6],x[7],x[8]])"
   ]
  },
  {
   "cell_type": "code",
   "execution_count": 6,
   "metadata": {},
   "outputs": [
    {
     "data": {
      "text/plain": [
       "[[u' 12/31/05 23:59:46',\n",
       "  u' 1',\n",
       "  u'0',\n",
       "  u' ',\n",
       "  u' 5',\n",
       "  u' Orc',\n",
       "  u' Warrior',\n",
       "  u' Durotar']]"
      ]
     },
     "execution_count": 6,
     "metadata": {},
     "output_type": "execute_result"
    }
   ],
   "source": [
    "refined.take(1)"
   ]
  },
  {
   "cell_type": "code",
   "execution_count": 7,
   "metadata": {
    "collapsed": true
   },
   "outputs": [],
   "source": [
    "refined_df = refined.toDF(['QueryTime','QuerySeq','AvatarID','Guild','Level','Race','Class','Zone'])"
   ]
  },
  {
   "cell_type": "code",
   "execution_count": 8,
   "metadata": {},
   "outputs": [
    {
     "name": "stdout",
     "output_type": "stream",
     "text": [
      "+------------------+--------+--------+-----+-----+----+--------+--------+\n",
      "|         QueryTime|QuerySeq|AvatarID|Guild|Level|Race|   Class|    Zone|\n",
      "+------------------+--------+--------+-----+-----+----+--------+--------+\n",
      "| 12/31/05 23:59:46|       1|       0|     |    5| Orc| Warrior| Durotar|\n",
      "| 12/31/05 23:59:46|       1|       1|     |    9| Orc|  Shaman| Durotar|\n",
      "| 12/31/05 23:59:52|       2|       2|     |   13| Orc|  Shaman| Durotar|\n",
      "| 12/31/05 23:59:52|       2|       3|    0|   14| Orc| Warrior| Durotar|\n",
      "| 12/31/05 23:59:52|       2|       4|     |   14| Orc|  Shaman| Durotar|\n",
      "+------------------+--------+--------+-----+-----+----+--------+--------+\n",
      "only showing top 5 rows\n",
      "\n"
     ]
    }
   ],
   "source": [
    "refined_df.show(5)"
   ]
  },
  {
   "cell_type": "code",
   "execution_count": 9,
   "metadata": {},
   "outputs": [
    {
     "name": "stdout",
     "output_type": "stream",
     "text": [
      "root\n",
      " |-- QueryTime: string (nullable = true)\n",
      " |-- QuerySeq: string (nullable = true)\n",
      " |-- AvatarID: string (nullable = true)\n",
      " |-- Guild: string (nullable = true)\n",
      " |-- Level: string (nullable = true)\n",
      " |-- Race: string (nullable = true)\n",
      " |-- Class: string (nullable = true)\n",
      " |-- Zone: string (nullable = true)\n",
      "\n"
     ]
    }
   ],
   "source": [
    "refined_df.printSchema()"
   ]
  },
  {
   "cell_type": "markdown",
   "metadata": {},
   "source": [
    "<html>\n",
    "<font color = blue>\n",
    "<b> Note: These steps are reusable while performing feature engineering and model building using Spark. </b>\n",
    "</font>\n",
    "</html>"
   ]
  }
 ],
 "metadata": {
  "kernelspec": {
   "display_name": "Python 3",
   "language": "python",
   "name": "python3"
  },
  "language_info": {
   "codemirror_mode": {
    "name": "ipython",
    "version": 3
   },
   "file_extension": ".py",
   "mimetype": "text/x-python",
   "name": "python",
   "nbconvert_exporter": "python",
   "pygments_lexer": "ipython3",
   "version": "3.6.3"
  }
 },
 "nbformat": 4,
 "nbformat_minor": 2
}
