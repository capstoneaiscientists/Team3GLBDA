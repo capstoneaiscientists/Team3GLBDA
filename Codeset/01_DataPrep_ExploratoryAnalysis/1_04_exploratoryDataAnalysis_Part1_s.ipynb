{
 "cells": [
  {
   "cell_type": "code",
   "execution_count": 1,
   "metadata": {
    "collapsed": true
   },
   "outputs": [],
   "source": [
    "import pandas as pd"
   ]
  },
  {
   "cell_type": "code",
   "execution_count": 2,
   "metadata": {
    "collapsed": true
   },
   "outputs": [],
   "source": [
    "cols = ['Nullzero','QueryTime','QuerySeq','AvatarID','Guild','Level','Race','Class','Zone','Ignore1','Ignore2']"
   ]
  },
  {
   "cell_type": "code",
   "execution_count": 3,
   "metadata": {
    "collapsed": true
   },
   "outputs": [],
   "source": [
    "df = pd.read_csv(\"H:\\Output\\wowlogs.csv\", names = cols, usecols = ['QueryTime','QuerySeq','AvatarID','Guild','Level','Race','Class','Zone'])"
   ]
  },
  {
   "cell_type": "code",
   "execution_count": 4,
   "metadata": {},
   "outputs": [
    {
     "data": {
      "text/html": [
       "<div>\n",
       "<style>\n",
       "    .dataframe thead tr:only-child th {\n",
       "        text-align: right;\n",
       "    }\n",
       "\n",
       "    .dataframe thead th {\n",
       "        text-align: left;\n",
       "    }\n",
       "\n",
       "    .dataframe tbody tr th {\n",
       "        vertical-align: top;\n",
       "    }\n",
       "</style>\n",
       "<table border=\"1\" class=\"dataframe\">\n",
       "  <thead>\n",
       "    <tr style=\"text-align: right;\">\n",
       "      <th></th>\n",
       "      <th>QueryTime</th>\n",
       "      <th>QuerySeq</th>\n",
       "      <th>AvatarID</th>\n",
       "      <th>Guild</th>\n",
       "      <th>Level</th>\n",
       "      <th>Race</th>\n",
       "      <th>Class</th>\n",
       "      <th>Zone</th>\n",
       "    </tr>\n",
       "  </thead>\n",
       "  <tbody>\n",
       "    <tr>\n",
       "      <th>0</th>\n",
       "      <td>12/31/05 23:59:46</td>\n",
       "      <td>1</td>\n",
       "      <td>0</td>\n",
       "      <td></td>\n",
       "      <td>5</td>\n",
       "      <td>Orc</td>\n",
       "      <td>Warrior</td>\n",
       "      <td>Durotar</td>\n",
       "    </tr>\n",
       "    <tr>\n",
       "      <th>1</th>\n",
       "      <td>12/31/05 23:59:46</td>\n",
       "      <td>1</td>\n",
       "      <td>1</td>\n",
       "      <td></td>\n",
       "      <td>9</td>\n",
       "      <td>Orc</td>\n",
       "      <td>Shaman</td>\n",
       "      <td>Durotar</td>\n",
       "    </tr>\n",
       "    <tr>\n",
       "      <th>2</th>\n",
       "      <td>12/31/05 23:59:52</td>\n",
       "      <td>2</td>\n",
       "      <td>2</td>\n",
       "      <td></td>\n",
       "      <td>13</td>\n",
       "      <td>Orc</td>\n",
       "      <td>Shaman</td>\n",
       "      <td>Durotar</td>\n",
       "    </tr>\n",
       "    <tr>\n",
       "      <th>3</th>\n",
       "      <td>12/31/05 23:59:52</td>\n",
       "      <td>2</td>\n",
       "      <td>3</td>\n",
       "      <td>0</td>\n",
       "      <td>14</td>\n",
       "      <td>Orc</td>\n",
       "      <td>Warrior</td>\n",
       "      <td>Durotar</td>\n",
       "    </tr>\n",
       "    <tr>\n",
       "      <th>4</th>\n",
       "      <td>12/31/05 23:59:52</td>\n",
       "      <td>2</td>\n",
       "      <td>4</td>\n",
       "      <td></td>\n",
       "      <td>14</td>\n",
       "      <td>Orc</td>\n",
       "      <td>Shaman</td>\n",
       "      <td>Durotar</td>\n",
       "    </tr>\n",
       "  </tbody>\n",
       "</table>\n",
       "</div>"
      ],
      "text/plain": [
       "            QueryTime  QuerySeq  AvatarID Guild  Level  Race     Class  \\\n",
       "0   12/31/05 23:59:46         1         0            5   Orc   Warrior   \n",
       "1   12/31/05 23:59:46         1         1            9   Orc    Shaman   \n",
       "2   12/31/05 23:59:52         2         2           13   Orc    Shaman   \n",
       "3   12/31/05 23:59:52         2         3     0     14   Orc   Warrior   \n",
       "4   12/31/05 23:59:52         2         4           14   Orc    Shaman   \n",
       "\n",
       "       Zone  \n",
       "0   Durotar  \n",
       "1   Durotar  \n",
       "2   Durotar  \n",
       "3   Durotar  \n",
       "4   Durotar  "
      ]
     },
     "execution_count": 4,
     "metadata": {},
     "output_type": "execute_result"
    }
   ],
   "source": [
    "df.head(5)"
   ]
  },
  {
   "cell_type": "code",
   "execution_count": 5,
   "metadata": {},
   "outputs": [
    {
     "data": {
      "text/html": [
       "<div>\n",
       "<style>\n",
       "    .dataframe thead tr:only-child th {\n",
       "        text-align: right;\n",
       "    }\n",
       "\n",
       "    .dataframe thead th {\n",
       "        text-align: left;\n",
       "    }\n",
       "\n",
       "    .dataframe tbody tr th {\n",
       "        vertical-align: top;\n",
       "    }\n",
       "</style>\n",
       "<table border=\"1\" class=\"dataframe\">\n",
       "  <thead>\n",
       "    <tr style=\"text-align: right;\">\n",
       "      <th></th>\n",
       "      <th>QueryTime</th>\n",
       "      <th>QuerySeq</th>\n",
       "      <th>AvatarID</th>\n",
       "      <th>Guild</th>\n",
       "      <th>Level</th>\n",
       "      <th>Race</th>\n",
       "      <th>Class</th>\n",
       "      <th>Zone</th>\n",
       "    </tr>\n",
       "  </thead>\n",
       "  <tbody>\n",
       "    <tr>\n",
       "      <th>41063250</th>\n",
       "      <td>01/10/09 05:08:48</td>\n",
       "      <td>56</td>\n",
       "      <td>36893</td>\n",
       "      <td>104</td>\n",
       "      <td>80</td>\n",
       "      <td>Blood Elf</td>\n",
       "      <td>Mage</td>\n",
       "      <td>Dalaran</td>\n",
       "    </tr>\n",
       "    <tr>\n",
       "      <th>41063251</th>\n",
       "      <td>01/10/09 05:08:48</td>\n",
       "      <td>56</td>\n",
       "      <td>39532</td>\n",
       "      <td>204</td>\n",
       "      <td>80</td>\n",
       "      <td>Blood Elf</td>\n",
       "      <td>Mage</td>\n",
       "      <td>The Storm Peaks</td>\n",
       "    </tr>\n",
       "    <tr>\n",
       "      <th>41063252</th>\n",
       "      <td>01/10/09 05:08:59</td>\n",
       "      <td>58</td>\n",
       "      <td>90033</td>\n",
       "      <td>502</td>\n",
       "      <td>80</td>\n",
       "      <td>Blood Elf</td>\n",
       "      <td>Death Knight</td>\n",
       "      <td>Sholazar Basin</td>\n",
       "    </tr>\n",
       "    <tr>\n",
       "      <th>41063253</th>\n",
       "      <td>01/10/09 05:08:59</td>\n",
       "      <td>58</td>\n",
       "      <td>87974</td>\n",
       "      <td>251</td>\n",
       "      <td>80</td>\n",
       "      <td>Blood Elf</td>\n",
       "      <td>Death Knight</td>\n",
       "      <td>Blade's Edge Mountains</td>\n",
       "    </tr>\n",
       "    <tr>\n",
       "      <th>41063254</th>\n",
       "      <td>01/10/09 05:08:59</td>\n",
       "      <td>58</td>\n",
       "      <td>86679</td>\n",
       "      <td>459</td>\n",
       "      <td>80</td>\n",
       "      <td>Blood Elf</td>\n",
       "      <td>Death Knight</td>\n",
       "      <td>Shadowmoon Valley</td>\n",
       "    </tr>\n",
       "  </tbody>\n",
       "</table>\n",
       "</div>"
      ],
      "text/plain": [
       "                   QueryTime  QuerySeq  AvatarID Guild  Level        Race  \\\n",
       "41063250   01/10/09 05:08:48        56     36893   104     80   Blood Elf   \n",
       "41063251   01/10/09 05:08:48        56     39532   204     80   Blood Elf   \n",
       "41063252   01/10/09 05:08:59        58     90033   502     80   Blood Elf   \n",
       "41063253   01/10/09 05:08:59        58     87974   251     80   Blood Elf   \n",
       "41063254   01/10/09 05:08:59        58     86679   459     80   Blood Elf   \n",
       "\n",
       "                  Class                     Zone  \n",
       "41063250           Mage                  Dalaran  \n",
       "41063251           Mage          The Storm Peaks  \n",
       "41063252   Death Knight           Sholazar Basin  \n",
       "41063253   Death Knight   Blade's Edge Mountains  \n",
       "41063254   Death Knight        Shadowmoon Valley  "
      ]
     },
     "execution_count": 5,
     "metadata": {},
     "output_type": "execute_result"
    }
   ],
   "source": [
    "df.tail(5)"
   ]
  },
  {
   "cell_type": "code",
   "execution_count": 6,
   "metadata": {
    "collapsed": true
   },
   "outputs": [],
   "source": [
    "total_records = df.count()"
   ]
  },
  {
   "cell_type": "markdown",
   "metadata": {},
   "source": [
    "<html>\n",
    "<font color = DarkBlue>\n",
    "List all unique races from data set.\n",
    "</font>\n",
    "</html>"
   ]
  },
  {
   "cell_type": "code",
   "execution_count": 7,
   "metadata": {},
   "outputs": [
    {
     "data": {
      "text/plain": [
       "array([' Orc', ' Tauren', ' Troll', ' Undead', '373族', '547人', '3033',\n",
       "       '27410', ' Blood Elf', '74622妖'], dtype=object)"
      ]
     },
     "execution_count": 7,
     "metadata": {},
     "output_type": "execute_result"
    }
   ],
   "source": [
    "df.Race.unique()"
   ]
  },
  {
   "cell_type": "markdown",
   "metadata": {},
   "source": [
    "<html>\n",
    "<font color = DarkBlue>\n",
    "Following values are incorrect Warcraft races: <br />\n",
    "'373族', '547人', '3033','27410', '74622妖' <br />\n",
    "Let us look at the records which have these incorrect races.\n",
    "</font>\n",
    "</html>"
   ]
  },
  {
   "cell_type": "code",
   "execution_count": 8,
   "metadata": {
    "collapsed": true
   },
   "outputs": [],
   "source": [
    "df_incorrect_race = df[df['Race'].isin(['373族', '547人', '3033','27410', '74622妖'])]"
   ]
  },
  {
   "cell_type": "code",
   "execution_count": 9,
   "metadata": {},
   "outputs": [
    {
     "data": {
      "text/plain": [
       "array([  373,   547,  3033, 27410, 74622], dtype=int64)"
      ]
     },
     "execution_count": 9,
     "metadata": {},
     "output_type": "execute_result"
    }
   ],
   "source": [
    "df_incorrect_race.AvatarID.unique()"
   ]
  },
  {
   "cell_type": "code",
   "execution_count": 10,
   "metadata": {},
   "outputs": [
    {
     "data": {
      "text/plain": [
       "QueryTime    50085\n",
       "QuerySeq     50085\n",
       "AvatarID     50085\n",
       "Guild        50085\n",
       "Level        50085\n",
       "Race         50085\n",
       "Class        50085\n",
       "Zone         50085\n",
       "dtype: int64"
      ]
     },
     "execution_count": 10,
     "metadata": {},
     "output_type": "execute_result"
    }
   ],
   "source": [
    "df_incorrect_race.count()"
   ]
  },
  {
   "cell_type": "markdown",
   "metadata": {},
   "source": [
    "<html>\n",
    "<font color = DarkBlue>\n",
    "50085 records that belongs to 5 users have incorrect race captured in the logs. These records need to be removed to avoid incorrect analysis.\n",
    "</font>\n",
    "</html>"
   ]
  },
  {
   "cell_type": "markdown",
   "metadata": {},
   "source": [
    "<html>\n",
    "<font color = DarkBlue>\n",
    "List all unique classes from data set.\n",
    "</font>\n",
    "</html>"
   ]
  },
  {
   "cell_type": "code",
   "execution_count": 11,
   "metadata": {},
   "outputs": [
    {
     "data": {
      "text/plain": [
       "array([' Warrior', ' Shaman', ' Hunter', ' Warlock', ' Rogue', ' Druid',\n",
       "       ' Mage', ' Priest', '482', '2400', '3485伊', ' Paladin',\n",
       "       ' Death Knight'], dtype=object)"
      ]
     },
     "execution_count": 11,
     "metadata": {},
     "output_type": "execute_result"
    }
   ],
   "source": [
    "df.Class.unique()"
   ]
  },
  {
   "cell_type": "markdown",
   "metadata": {},
   "source": [
    "<html>\n",
    "<font color = DarkBlue>\n",
    "Following values are incorrect Warcraft classes: <br />\n",
    "'482', '2400', '3485伊' <br />\n",
    "Let us look at the records which have these incorrect classes.\n",
    "</font>\n",
    "</html>"
   ]
  },
  {
   "cell_type": "code",
   "execution_count": 12,
   "metadata": {
    "collapsed": true
   },
   "outputs": [],
   "source": [
    "df_incorrect_class = df[df['Class'].isin(['482', '2400', '3485伊'])]"
   ]
  },
  {
   "cell_type": "code",
   "execution_count": 13,
   "metadata": {},
   "outputs": [
    {
     "data": {
      "text/plain": [
       "array([ 482, 2400, 3485], dtype=int64)"
      ]
     },
     "execution_count": 13,
     "metadata": {},
     "output_type": "execute_result"
    }
   ],
   "source": [
    "df_incorrect_class.AvatarID.unique()"
   ]
  },
  {
   "cell_type": "code",
   "execution_count": 14,
   "metadata": {},
   "outputs": [
    {
     "data": {
      "text/plain": [
       "QueryTime    376\n",
       "QuerySeq     376\n",
       "AvatarID     376\n",
       "Guild        376\n",
       "Level        376\n",
       "Race         376\n",
       "Class        376\n",
       "Zone         376\n",
       "dtype: int64"
      ]
     },
     "execution_count": 14,
     "metadata": {},
     "output_type": "execute_result"
    }
   ],
   "source": [
    "df_incorrect_class.count()"
   ]
  },
  {
   "cell_type": "markdown",
   "metadata": {},
   "source": [
    "<html>\n",
    "<font color = DarkBlue>\n",
    "376 records that belongs to 3 users have incorrect class captured in the logs. These records need to be removed to avoid incorrect analysis.\n",
    "</font>\n",
    "</html>"
   ]
  },
  {
   "cell_type": "markdown",
   "metadata": {},
   "source": [
    "<html>\n",
    "<font color = DarkBlue>\n",
    "List all unique zones from data set.\n",
    "</font>\n",
    "</html>"
   ]
  },
  {
   "cell_type": "code",
   "execution_count": 15,
   "metadata": {},
   "outputs": [
    {
     "data": {
      "text/plain": [
       "173"
      ]
     },
     "execution_count": 15,
     "metadata": {},
     "output_type": "execute_result"
    }
   ],
   "source": [
    "df.Zone.nunique()"
   ]
  },
  {
   "cell_type": "code",
   "execution_count": 16,
   "metadata": {},
   "outputs": [
    {
     "data": {
      "text/plain": [
       "array([' Durotar', ' The Barrens', ' Silverpine Forest',\n",
       "       ' Stonetalon Mountains', ' Thunder Bluff', ' Dustwallow Marsh',\n",
       "       ' Orgrimmar', ' Undercity', ' Ashenvale', ' Stranglethorn Vale',\n",
       "       ' Wailing Caverns', ' Tanaris', ' Maraudon', ' The Hinterlands',\n",
       "       \" Un'Goro Crater\", ' Felwood', \" The Temple of Atal'Hakkar\",\n",
       "       ' Blackrock Depths', ' Winterspring', ' Eastern Plaguelands',\n",
       "       ' Azshara', ' Scholomance', ' Arathi Basin', ' Blackrock Spire',\n",
       "       ' Blackrock Mountain', ' Moonglade', ' Mulgore',\n",
       "       ' Thousand Needles', ' Hillsbrad Foothills', ' Blackfathom Deeps',\n",
       "       ' Desolace', ' Darkshore', ' Alterac Mountains',\n",
       "       ' Swamp of Sorrows', ' Tirisfal Glades', ' Searing Gorge',\n",
       "       ' Burning Steppes', \" Zul'Farrak\", ' Feralas', ' Arathi Highlands',\n",
       "       ' Blasted Lands', ' Western Plaguelands', ' Stratholme',\n",
       "       ' Scarlet Monastery', ' Shadowfang Keep', ' Badlands', ' 未知',\n",
       "       ' Wetlands', ' Redridge Mountains', ' Hall of Legends',\n",
       "       ' Gnomeregan', ' Razorfen Downs', ' Duskwood', ' Loch Modan',\n",
       "       ' Silithus', ' Deadwind Pass', ' Razorfen Kraul', ' Ragefire Chasm',\n",
       "       ' Dire Maul', ' Uldaman', ' Dun Morogh', ' Elwynn Forest',\n",
       "       \" Zul'Gurub\", ' Teldrassil', ' Westfall', ' Stormwind City',\n",
       "       ' Molten Core', \" Onyxia's Lair\", ' Warsong Gulch',\n",
       "       ' Blackwing Lair', ' Deadmines', \" Gates of Ahn'Qiraj\", ' 監獄',\n",
       "       ' Alterac Valley', ' 時光洞穴', ' Ironforge', ' 達納蘇斯', ' Hyjal',\n",
       "       ' Deeprun Tram', '8585', '1608峽谷', \" Ruins of Ahn'Qiraj\",\n",
       "       \" Ahn'Qiraj\", '2029', '15641', ' Naxxramas', '1007城', ' GM Island',\n",
       "       ' The Great Sea', ' Nagrand Arena', \" Blade's Edge Arena\",\n",
       "       \" Quel'thalas\", ' Hellfire Peninsula', ' Ghostlands',\n",
       "       ' Silvermoon City', ' Zangarmarsh', ' Terokkar Forest',\n",
       "       ' Shattrath City', ' Hellfire Ramparts', ' Eversong Woods',\n",
       "       ' Nagrand', \" Blade's Edge Mountains\", ' Netherstorm',\n",
       "       ' The Blood Furnace', ' Shadowmoon Valley', ' 北方海岸', ' 毒牙沼澤',\n",
       "       ' Coilfang: The Slave Pens', ' The Steamvault', ' Eye of the Storm',\n",
       "       ' Azuremyst Isle', ' Bloodmyst Isle', ' Mana-Tombs',\n",
       "       ' Old Hillsbrad Foothills', ' Auchenai Crypts', ' Sethekk Halls',\n",
       "       ' Twisting Nether', ' The Black Morass', ' The Veiled Sea',\n",
       "       ' The Shattered Halls', ' Auchindoun: Shadow Labyrinth', ' 麥克那爾',\n",
       "       ' The Botanica', ' The Arcatraz', \" Gruul's Lair\", ' Karazhan',\n",
       "       \" Magtheridon's Lair\", ' The Exodar', ' The Forbidding Sea',\n",
       "       ' Ruins of Lordaeron', ' Serpentshrine Cavern', ' Tempest Keep',\n",
       "       ' The Underbog', ' The Mechanar', '61477', ' 龍骨荒野', '1231崔茲',\n",
       "       ' Black Temple', \" Magisters' Terrace\", \" Isle of Quel'Danas\",\n",
       "       ' Sunwell Plateau', ' The North Sea', ' The Ring of Valor',\n",
       "       ' Dalaran競技場', ' Plaguelands: The Scarlet Enclave',\n",
       "       ' Borean Tundra', ' Dragonblight', ' Howling Fjord', ' The Nexus',\n",
       "       ' Grizzly Hills', ' Sholazar Basin', ' Crystalsong Forest',\n",
       "       ' The Frozen Sea', ' Utgarde Keep', ' Azjol-Nerub',\n",
       "       ' The Storm Peaks', ' Icecrown', ' Dalaran',\n",
       "       \" Ahn'kahet: The Old Kingdom\", \" Zul'Drak\", ' The Violet Hold',\n",
       "       ' Wintergrasp', ' Strand of the Ancients', \" Drak'Tharon Keep\",\n",
       "       ' Gundrak', ' The Culling of Stratholme', ' The Oculus',\n",
       "       ' Halls of Lightning', ' Halls of Stone', ' Utgarde Pinnacle',\n",
       "       ' Vault of Archavon', ' The Eye of Eternity',\n",
       "       ' The Obsidian Sanctum'], dtype=object)"
      ]
     },
     "execution_count": 16,
     "metadata": {},
     "output_type": "execute_result"
    }
   ],
   "source": [
    "df.Zone.unique()"
   ]
  },
  {
   "cell_type": "markdown",
   "metadata": {},
   "source": [
    "<html>\n",
    "<font color = DarkBlue>\n",
    "Let us look at the records which have these incorrect warcraft Zones captured in their logs.\n",
    "</font>\n",
    "</html>"
   ]
  },
  {
   "cell_type": "code",
   "execution_count": 17,
   "metadata": {
    "collapsed": true
   },
   "outputs": [],
   "source": [
    "df_incorrect_zone = df[~df['Zone'].isin([' Durotar', ' The Barrens', ' Silverpine Forest',\n",
    "       ' Stonetalon Mountains', ' Thunder Bluff', ' Dustwallow Marsh',\n",
    "       ' Orgrimmar', ' Undercity', ' Ashenvale', ' Stranglethorn Vale',\n",
    "       ' Wailing Caverns', ' Tanaris', ' Maraudon', ' The Hinterlands',\n",
    "       \" Un'Goro Crater\", ' Felwood', \" The Temple of Atal'Hakkar\",\n",
    "       ' Blackrock Depths', ' Winterspring', ' Eastern Plaguelands',\n",
    "       ' Azshara', ' Scholomance', ' Arathi Basin', ' Blackrock Spire',\n",
    "       ' Blackrock Mountain', ' Moonglade', ' Mulgore',\n",
    "       ' Thousand Needles', ' Hillsbrad Foothills', ' Blackfathom Deeps',\n",
    "       ' Desolace', ' Darkshore', ' Alterac Mountains',\n",
    "       ' Swamp of Sorrows', ' Tirisfal Glades', ' Searing Gorge',\n",
    "       ' Burning Steppes', \" Zul'Farrak\", ' Feralas', ' Arathi Highlands',\n",
    "       ' Blasted Lands', ' Western Plaguelands', ' Stratholme',\n",
    "       ' Scarlet Monastery', ' Shadowfang Keep', ' Badlands',\n",
    "       ' Wetlands', ' Redridge Mountains',\n",
    "       ' Hall of Legends', ' Gnomeregan', ' Razorfen Downs', ' Duskwood',\n",
    "       ' Loch Modan', ' Silithus', ' Deadwind Pass', ' Razorfen Kraul',\n",
    "       ' Ragefire Chasm', ' Dire Maul', ' Uldaman', ' Dun Morogh',\n",
    "       ' Elwynn Forest', \" Zul'Gurub\", ' Teldrassil', ' Westfall',\n",
    "       ' Stormwind City', ' Molten Core', \" Onyxia's Lair\",\n",
    "       ' Warsong Gulch', ' Blackwing Lair', ' Deadmines',\n",
    "       \" Gates of Ahn'Qiraj\", \n",
    "       ' Alterac Valley',\n",
    "       ' Ironforge',\n",
    "       ' Hyjal',\n",
    "       ' Deeprun Tram', \" Ruins of Ahn'Qiraj\", \" Ahn'Qiraj\", ' Naxxramas',\n",
    "       ' GM Island', ' The Great Sea', ' Nagrand Arena',\n",
    "       \" Blade's Edge Arena\", \" Quel'thalas\", ' Hellfire Peninsula',\n",
    "       ' Ghostlands', ' Silvermoon City', ' Zangarmarsh',\n",
    "       ' Terokkar Forest', ' Shattrath City', ' Hellfire Ramparts',\n",
    "       ' Eversong Woods', ' Nagrand', \" Blade's Edge Mountains\",\n",
    "       ' Netherstorm', ' The Blood Furnace', ' Shadowmoon Valley',\n",
    "       ' Coilfang: The Slave Pens', ' The Steamvault', ' Eye of the Storm',\n",
    "       ' Azuremyst Isle', ' Bloodmyst Isle', ' Mana-Tombs',\n",
    "       ' Old Hillsbrad Foothills', ' Auchenai Crypts', ' Sethekk Halls',\n",
    "       ' Twisting Nether', ' The Black Morass', ' The Veiled Sea',\n",
    "       ' The Shattered Halls', ' Auchindoun: Shadow Labyrinth',\n",
    "       ' The Botanica', ' The Arcatraz', \" Gruul's Lair\", ' Karazhan',\n",
    "       \" Magtheridon's Lair\", ' The Exodar', ' The Forbidding Sea',\n",
    "       ' Ruins of Lordaeron', ' Serpentshrine Cavern', ' Tempest Keep',\n",
    "       ' The Underbog', ' The Mechanar',\n",
    "       ' Black Temple', \" Magisters' Terrace\", \" Isle of Quel'Danas\",\n",
    "       ' Sunwell Plateau', ' The North Sea', ' The Ring of Valor',\n",
    "       ' Plaguelands: The Scarlet Enclave', ' Borean Tundra',\n",
    "       ' Dragonblight', ' Howling Fjord', ' The Nexus', ' Grizzly Hills',\n",
    "       ' Sholazar Basin', ' Crystalsong Forest', ' The Frozen Sea',\n",
    "       ' Utgarde Keep', ' Azjol-Nerub', ' The Storm Peaks', ' Icecrown',\n",
    "       ' Dalaran', \" Ahn'kahet: The Old Kingdom\", \" Zul'Drak\",\n",
    "       ' The Violet Hold', ' Wintergrasp', ' Strand of the Ancients',\n",
    "       \" Drak'Tharon Keep\", ' Gundrak', ' The Culling of Stratholme',\n",
    "       ' The Oculus', ' Halls of Lightning', ' Halls of Stone',\n",
    "       ' Utgarde Pinnacle', ' Vault of Archavon', ' The Eye of Eternity',\n",
    "       ' The Obsidian Sanctum'])]"
   ]
  },
  {
   "cell_type": "code",
   "execution_count": 18,
   "metadata": {},
   "outputs": [
    {
     "data": {
      "text/plain": [
       "array([' 未知', ' 監獄', ' 時光洞穴', ' 達納蘇斯', '8585', '1608峽谷', '2029', '15641',\n",
       "       '1007城', ' 北方海岸', ' 毒牙沼澤', ' 麥克那爾', '61477', ' 龍骨荒野', '1231崔茲',\n",
       "       ' Dalaran競技場'], dtype=object)"
      ]
     },
     "execution_count": 18,
     "metadata": {},
     "output_type": "execute_result"
    }
   ],
   "source": [
    "df_incorrect_zone.Zone.unique()"
   ]
  },
  {
   "cell_type": "code",
   "execution_count": 19,
   "metadata": {},
   "outputs": [
    {
     "data": {
      "text/plain": [
       "QueryTime    370298\n",
       "QuerySeq     370298\n",
       "AvatarID     370298\n",
       "Guild        370298\n",
       "Level        370298\n",
       "Race         370298\n",
       "Class        370298\n",
       "Zone         370298\n",
       "dtype: int64"
      ]
     },
     "execution_count": 19,
     "metadata": {},
     "output_type": "execute_result"
    }
   ],
   "source": [
    "df_incorrect_zone.count()"
   ]
  },
  {
   "cell_type": "code",
   "execution_count": 20,
   "metadata": {},
   "outputs": [
    {
     "data": {
      "text/plain": [
       "5441"
      ]
     },
     "execution_count": 20,
     "metadata": {},
     "output_type": "execute_result"
    }
   ],
   "source": [
    "df_incorrect_zone.AvatarID.nunique()"
   ]
  },
  {
   "cell_type": "markdown",
   "metadata": {},
   "source": [
    "<html>\n",
    "<font color = DarkBlue>\n",
    "370298 records that belongs to 5441 users have incorrect Zone captured in the logs. These records need to be removed to avoid incorrect analysis.\n",
    "</font>\n",
    "</html>"
   ]
  },
  {
   "cell_type": "markdown",
   "metadata": {},
   "source": [
    "<html>\n",
    "<font color = DarkBlue>\n",
    "Now, Let us clean up data by removing all incorrect records of Race, Class and Zone.\n",
    "</font>\n",
    "</html>"
   ]
  },
  {
   "cell_type": "code",
   "execution_count": 21,
   "metadata": {
    "collapsed": true
   },
   "outputs": [],
   "source": [
    "df_final = df[df['Race'].isin([' Orc', ' Tauren', ' Troll', ' Undead',' Blood Elf'])]"
   ]
  },
  {
   "cell_type": "code",
   "execution_count": 22,
   "metadata": {
    "collapsed": true
   },
   "outputs": [],
   "source": [
    "df_final = df_final[df_final['Class'].isin([' Warrior', ' Shaman', ' Hunter', ' Warlock', ' Rogue', ' Druid',\n",
    "       ' Mage', ' Priest',' Paladin', ' Death Knight'])]"
   ]
  },
  {
   "cell_type": "code",
   "execution_count": 23,
   "metadata": {
    "collapsed": true
   },
   "outputs": [],
   "source": [
    "df_final = df_final[df_final['Zone'].isin([' Durotar', ' The Barrens', ' Silverpine Forest',\n",
    "       ' Stonetalon Mountains', ' Thunder Bluff', ' Dustwallow Marsh',\n",
    "       ' Orgrimmar', ' Undercity', ' Ashenvale', ' Stranglethorn Vale',\n",
    "       ' Wailing Caverns', ' Tanaris', ' Maraudon', ' The Hinterlands',\n",
    "       \" Un'Goro Crater\", ' Felwood', \" The Temple of Atal'Hakkar\",\n",
    "       ' Blackrock Depths', ' Winterspring', ' Eastern Plaguelands',\n",
    "       ' Azshara', ' Scholomance', ' Arathi Basin', ' Blackrock Spire',\n",
    "       ' Blackrock Mountain', ' Moonglade', ' Mulgore',\n",
    "       ' Thousand Needles', ' Hillsbrad Foothills', ' Blackfathom Deeps',\n",
    "       ' Desolace', ' Darkshore', ' Alterac Mountains',\n",
    "       ' Swamp of Sorrows', ' Tirisfal Glades', ' Searing Gorge',\n",
    "       ' Burning Steppes', \" Zul'Farrak\", ' Feralas', ' Arathi Highlands',\n",
    "       ' Blasted Lands', ' Western Plaguelands', ' Stratholme',\n",
    "       ' Scarlet Monastery', ' Shadowfang Keep', ' Badlands',\n",
    "       ' Wetlands', ' Redridge Mountains',\n",
    "       ' Hall of Legends', ' Gnomeregan', ' Razorfen Downs', ' Duskwood',\n",
    "       ' Loch Modan', ' Silithus', ' Deadwind Pass', ' Razorfen Kraul',\n",
    "       ' Ragefire Chasm', ' Dire Maul', ' Uldaman', ' Dun Morogh',\n",
    "       ' Elwynn Forest', \" Zul'Gurub\", ' Teldrassil', ' Westfall',\n",
    "       ' Stormwind City', ' Molten Core', \" Onyxia's Lair\",\n",
    "       ' Warsong Gulch', ' Blackwing Lair', ' Deadmines',\n",
    "       \" Gates of Ahn'Qiraj\", \n",
    "       ' Alterac Valley',\n",
    "       ' Ironforge',\n",
    "       ' Hyjal',\n",
    "       ' Deeprun Tram', \" Ruins of Ahn'Qiraj\", \" Ahn'Qiraj\", ' Naxxramas',\n",
    "       ' GM Island', ' The Great Sea', ' Nagrand Arena',\n",
    "       \" Blade's Edge Arena\", \" Quel'thalas\", ' Hellfire Peninsula',\n",
    "       ' Ghostlands', ' Silvermoon City', ' Zangarmarsh',\n",
    "       ' Terokkar Forest', ' Shattrath City', ' Hellfire Ramparts',\n",
    "       ' Eversong Woods', ' Nagrand', \" Blade's Edge Mountains\",\n",
    "       ' Netherstorm', ' The Blood Furnace', ' Shadowmoon Valley',\n",
    "       ' Coilfang: The Slave Pens', ' The Steamvault', ' Eye of the Storm',\n",
    "       ' Azuremyst Isle', ' Bloodmyst Isle', ' Mana-Tombs',\n",
    "       ' Old Hillsbrad Foothills', ' Auchenai Crypts', ' Sethekk Halls',\n",
    "       ' Twisting Nether', ' The Black Morass', ' The Veiled Sea',\n",
    "       ' The Shattered Halls', ' Auchindoun: Shadow Labyrinth',\n",
    "       ' The Botanica', ' The Arcatraz', \" Gruul's Lair\", ' Karazhan',\n",
    "       \" Magtheridon's Lair\", ' The Exodar', ' The Forbidding Sea',\n",
    "       ' Ruins of Lordaeron', ' Serpentshrine Cavern', ' Tempest Keep',\n",
    "       ' The Underbog', ' The Mechanar',\n",
    "       ' Black Temple', \" Magisters' Terrace\", \" Isle of Quel'Danas\",\n",
    "       ' Sunwell Plateau', ' The North Sea', ' The Ring of Valor',\n",
    "       ' Plaguelands: The Scarlet Enclave', ' Borean Tundra',\n",
    "       ' Dragonblight', ' Howling Fjord', ' The Nexus', ' Grizzly Hills',\n",
    "       ' Sholazar Basin', ' Crystalsong Forest', ' The Frozen Sea',\n",
    "       ' Utgarde Keep', ' Azjol-Nerub', ' The Storm Peaks', ' Icecrown',\n",
    "       ' Dalaran', \" Ahn'kahet: The Old Kingdom\", \" Zul'Drak\",\n",
    "       ' The Violet Hold', ' Wintergrasp', ' Strand of the Ancients',\n",
    "       \" Drak'Tharon Keep\", ' Gundrak', ' The Culling of Stratholme',\n",
    "       ' The Oculus', ' Halls of Lightning', ' Halls of Stone',\n",
    "       ' Utgarde Pinnacle', ' Vault of Archavon', ' The Eye of Eternity',\n",
    "       ' The Obsidian Sanctum'])]"
   ]
  },
  {
   "cell_type": "code",
   "execution_count": 24,
   "metadata": {
    "collapsed": true
   },
   "outputs": [],
   "source": [
    "final_records = df_final.count()"
   ]
  },
  {
   "cell_type": "code",
   "execution_count": 25,
   "metadata": {
    "collapsed": true
   },
   "outputs": [],
   "source": [
    "removed_records = total_records - final_records"
   ]
  },
  {
   "cell_type": "code",
   "execution_count": 26,
   "metadata": {},
   "outputs": [
    {
     "data": {
      "text/plain": [
       "(QueryTime    41063255\n",
       " QuerySeq     41063255\n",
       " AvatarID     41063255\n",
       " Guild        41063255\n",
       " Level        41063255\n",
       " Race         41063255\n",
       " Class        41063255\n",
       " Zone         41063255\n",
       " dtype: int64, QueryTime    40642764\n",
       " QuerySeq     40642764\n",
       " AvatarID     40642764\n",
       " Guild        40642764\n",
       " Level        40642764\n",
       " Race         40642764\n",
       " Class        40642764\n",
       " Zone         40642764\n",
       " dtype: int64, QueryTime    420491\n",
       " QuerySeq     420491\n",
       " AvatarID     420491\n",
       " Guild        420491\n",
       " Level        420491\n",
       " Race         420491\n",
       " Class        420491\n",
       " Zone         420491\n",
       " dtype: int64)"
      ]
     },
     "execution_count": 26,
     "metadata": {},
     "output_type": "execute_result"
    }
   ],
   "source": [
    "total_records, final_records , removed_records"
   ]
  },
  {
   "cell_type": "code",
   "execution_count": 27,
   "metadata": {},
   "outputs": [
    {
     "data": {
      "text/plain": [
       "QueryTime    1.024008\n",
       "QuerySeq     1.024008\n",
       "AvatarID     1.024008\n",
       "Guild        1.024008\n",
       "Level        1.024008\n",
       "Race         1.024008\n",
       "Class        1.024008\n",
       "Zone         1.024008\n",
       "dtype: float64"
      ]
     },
     "execution_count": 27,
     "metadata": {},
     "output_type": "execute_result"
    }
   ],
   "source": [
    "(removed_records/total_records)*100"
   ]
  },
  {
   "cell_type": "markdown",
   "metadata": {},
   "source": [
    "<html>\n",
    "<font color = DarkBlue>\n",
    "We will have to remove 1% of the records (420491 out of 41063255) to avoid incorrect analysis and inferences from warcraft logs.\n",
    "This data is relatively less compared to the total size of warcraft logs we have gathered.\n",
    "</font>\n",
    "</html>"
   ]
  },
  {
   "cell_type": "markdown",
   "metadata": {},
   "source": [
    "<html>\n",
    "<font color = DarkBlue>\n",
    "Save the final set of records into a new csv file to be used in further steps.\n",
    "</font>\n",
    "</html>"
   ]
  },
  {
   "cell_type": "code",
   "execution_count": 28,
   "metadata": {
    "collapsed": true
   },
   "outputs": [],
   "source": [
    "df_final.to_csv(\"newlogs.csv\", sep=',', encoding='utf-8')"
   ]
  },
  {
   "cell_type": "code",
   "execution_count": 3,
   "metadata": {
    "collapsed": true
   },
   "outputs": [],
   "source": [
    "df_final = pd.read_csv(\"newlogs.csv\", usecols = ['QueryTime','QuerySeq','AvatarID','Guild','Level','Race','Class','Zone'])"
   ]
  },
  {
   "cell_type": "code",
   "execution_count": null,
   "metadata": {
    "collapsed": true
   },
   "outputs": [],
   "source": []
  }
 ],
 "metadata": {
  "kernelspec": {
   "display_name": "Python 3",
   "language": "python",
   "name": "python3"
  },
  "language_info": {
   "codemirror_mode": {
    "name": "ipython",
    "version": 3
   },
   "file_extension": ".py",
   "mimetype": "text/x-python",
   "name": "python",
   "nbconvert_exporter": "python",
   "pygments_lexer": "ipython3",
   "version": "3.6.3"
  }
 },
 "nbformat": 4,
 "nbformat_minor": 2
}
