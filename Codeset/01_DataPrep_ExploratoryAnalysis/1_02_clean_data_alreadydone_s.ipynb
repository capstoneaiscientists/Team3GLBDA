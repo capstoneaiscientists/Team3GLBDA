{
 "cells": [
  {
   "cell_type": "markdown",
   "metadata": {},
   "source": [
    "<html>\n",
    "<font color = Green size = 6>\n",
    "<b> Clean up data by removing corrupted logs and irrelevant fields</b>\n",
    "</font>\n",
    "</html>"
   ]
  },
  {
   "cell_type": "code",
   "execution_count": 1,
   "metadata": {
    "collapsed": true
   },
   "outputs": [],
   "source": [
    "import pandas as pd"
   ]
  },
  {
   "cell_type": "code",
   "execution_count": 2,
   "metadata": {
    "collapsed": true
   },
   "outputs": [],
   "source": [
    "cols = ['Nullzero','QueryTime','QuerySeq','AvatarID','Guild','Level','Race','Class','Zone','Ignore1','Ignore2']"
   ]
  },
  {
   "cell_type": "code",
   "execution_count": 3,
   "metadata": {
    "collapsed": true
   },
   "outputs": [],
   "source": [
    "df = pd.read_csv(\"H:\\Output\\wowlogs.csv\", names = cols, usecols = ['QueryTime','QuerySeq','AvatarID','Guild','Level','Race','Class','Zone'])"
   ]
  },
  {
   "cell_type": "code",
   "execution_count": 4,
   "metadata": {},
   "outputs": [
    {
     "data": {
      "text/html": [
       "<div>\n",
       "<table border=\"1\" class=\"dataframe\">\n",
       "  <thead>\n",
       "    <tr style=\"text-align: right;\">\n",
       "      <th></th>\n",
       "      <th>QueryTime</th>\n",
       "      <th>QuerySeq</th>\n",
       "      <th>AvatarID</th>\n",
       "      <th>Guild</th>\n",
       "      <th>Level</th>\n",
       "      <th>Race</th>\n",
       "      <th>Class</th>\n",
       "      <th>Zone</th>\n",
       "    </tr>\n",
       "  </thead>\n",
       "  <tbody>\n",
       "    <tr>\n",
       "      <th>0</th>\n",
       "      <td>12/31/05 23:59:46</td>\n",
       "      <td>1</td>\n",
       "      <td>0</td>\n",
       "      <td></td>\n",
       "      <td>5</td>\n",
       "      <td>Orc</td>\n",
       "      <td>Warrior</td>\n",
       "      <td>Durotar</td>\n",
       "    </tr>\n",
       "    <tr>\n",
       "      <th>1</th>\n",
       "      <td>12/31/05 23:59:46</td>\n",
       "      <td>1</td>\n",
       "      <td>1</td>\n",
       "      <td></td>\n",
       "      <td>9</td>\n",
       "      <td>Orc</td>\n",
       "      <td>Shaman</td>\n",
       "      <td>Durotar</td>\n",
       "    </tr>\n",
       "    <tr>\n",
       "      <th>2</th>\n",
       "      <td>12/31/05 23:59:52</td>\n",
       "      <td>2</td>\n",
       "      <td>2</td>\n",
       "      <td></td>\n",
       "      <td>13</td>\n",
       "      <td>Orc</td>\n",
       "      <td>Shaman</td>\n",
       "      <td>Durotar</td>\n",
       "    </tr>\n",
       "    <tr>\n",
       "      <th>3</th>\n",
       "      <td>12/31/05 23:59:52</td>\n",
       "      <td>2</td>\n",
       "      <td>3</td>\n",
       "      <td>0</td>\n",
       "      <td>14</td>\n",
       "      <td>Orc</td>\n",
       "      <td>Warrior</td>\n",
       "      <td>Durotar</td>\n",
       "    </tr>\n",
       "    <tr>\n",
       "      <th>4</th>\n",
       "      <td>12/31/05 23:59:52</td>\n",
       "      <td>2</td>\n",
       "      <td>4</td>\n",
       "      <td></td>\n",
       "      <td>14</td>\n",
       "      <td>Orc</td>\n",
       "      <td>Shaman</td>\n",
       "      <td>Durotar</td>\n",
       "    </tr>\n",
       "  </tbody>\n",
       "</table>\n",
       "</div>"
      ],
      "text/plain": [
       "            QueryTime  QuerySeq  AvatarID Guild  Level  Race     Class  \\\n",
       "0   12/31/05 23:59:46         1         0            5   Orc   Warrior   \n",
       "1   12/31/05 23:59:46         1         1            9   Orc    Shaman   \n",
       "2   12/31/05 23:59:52         2         2           13   Orc    Shaman   \n",
       "3   12/31/05 23:59:52         2         3     0     14   Orc   Warrior   \n",
       "4   12/31/05 23:59:52         2         4           14   Orc    Shaman   \n",
       "\n",
       "       Zone  \n",
       "0   Durotar  \n",
       "1   Durotar  \n",
       "2   Durotar  \n",
       "3   Durotar  \n",
       "4   Durotar  "
      ]
     },
     "execution_count": 4,
     "metadata": {},
     "output_type": "execute_result"
    }
   ],
   "source": [
    "df.head(5)"
   ]
  },
  {
   "cell_type": "code",
   "execution_count": 5,
   "metadata": {},
   "outputs": [
    {
     "data": {
      "text/html": [
       "<div>\n",
       "<table border=\"1\" class=\"dataframe\">\n",
       "  <thead>\n",
       "    <tr style=\"text-align: right;\">\n",
       "      <th></th>\n",
       "      <th>QueryTime</th>\n",
       "      <th>QuerySeq</th>\n",
       "      <th>AvatarID</th>\n",
       "      <th>Guild</th>\n",
       "      <th>Level</th>\n",
       "      <th>Race</th>\n",
       "      <th>Class</th>\n",
       "      <th>Zone</th>\n",
       "    </tr>\n",
       "  </thead>\n",
       "  <tbody>\n",
       "    <tr>\n",
       "      <th>41063250</th>\n",
       "      <td>01/10/09 05:08:48</td>\n",
       "      <td>56</td>\n",
       "      <td>36893</td>\n",
       "      <td>104</td>\n",
       "      <td>80</td>\n",
       "      <td>Blood Elf</td>\n",
       "      <td>Mage</td>\n",
       "      <td>Dalaran</td>\n",
       "    </tr>\n",
       "    <tr>\n",
       "      <th>41063251</th>\n",
       "      <td>01/10/09 05:08:48</td>\n",
       "      <td>56</td>\n",
       "      <td>39532</td>\n",
       "      <td>204</td>\n",
       "      <td>80</td>\n",
       "      <td>Blood Elf</td>\n",
       "      <td>Mage</td>\n",
       "      <td>The Storm Peaks</td>\n",
       "    </tr>\n",
       "    <tr>\n",
       "      <th>41063252</th>\n",
       "      <td>01/10/09 05:08:59</td>\n",
       "      <td>58</td>\n",
       "      <td>90033</td>\n",
       "      <td>502</td>\n",
       "      <td>80</td>\n",
       "      <td>Blood Elf</td>\n",
       "      <td>Death Knight</td>\n",
       "      <td>Sholazar Basin</td>\n",
       "    </tr>\n",
       "    <tr>\n",
       "      <th>41063253</th>\n",
       "      <td>01/10/09 05:08:59</td>\n",
       "      <td>58</td>\n",
       "      <td>87974</td>\n",
       "      <td>251</td>\n",
       "      <td>80</td>\n",
       "      <td>Blood Elf</td>\n",
       "      <td>Death Knight</td>\n",
       "      <td>Blade's Edge Mountains</td>\n",
       "    </tr>\n",
       "    <tr>\n",
       "      <th>41063254</th>\n",
       "      <td>01/10/09 05:08:59</td>\n",
       "      <td>58</td>\n",
       "      <td>86679</td>\n",
       "      <td>459</td>\n",
       "      <td>80</td>\n",
       "      <td>Blood Elf</td>\n",
       "      <td>Death Knight</td>\n",
       "      <td>Shadowmoon Valley</td>\n",
       "    </tr>\n",
       "  </tbody>\n",
       "</table>\n",
       "</div>"
      ],
      "text/plain": [
       "                   QueryTime  QuerySeq  AvatarID Guild  Level        Race  \\\n",
       "41063250   01/10/09 05:08:48        56     36893   104     80   Blood Elf   \n",
       "41063251   01/10/09 05:08:48        56     39532   204     80   Blood Elf   \n",
       "41063252   01/10/09 05:08:59        58     90033   502     80   Blood Elf   \n",
       "41063253   01/10/09 05:08:59        58     87974   251     80   Blood Elf   \n",
       "41063254   01/10/09 05:08:59        58     86679   459     80   Blood Elf   \n",
       "\n",
       "                  Class                     Zone  \n",
       "41063250           Mage                  Dalaran  \n",
       "41063251           Mage          The Storm Peaks  \n",
       "41063252   Death Knight           Sholazar Basin  \n",
       "41063253   Death Knight   Blade's Edge Mountains  \n",
       "41063254   Death Knight        Shadowmoon Valley  "
      ]
     },
     "execution_count": 5,
     "metadata": {},
     "output_type": "execute_result"
    }
   ],
   "source": [
    "df.tail(5)"
   ]
  },
  {
   "cell_type": "markdown",
   "metadata": {},
   "source": [
    "<html>\n",
    "<font color = Purple size = 4>\n",
    "<b> Filter records with valid Race values captured in log. </b>\n",
    "</font>\n",
    "</html>"
   ]
  },
  {
   "cell_type": "code",
   "execution_count": 6,
   "metadata": {
    "collapsed": true
   },
   "outputs": [],
   "source": [
    "df = df[df['Race'].isin([' Orc', ' Tauren', ' Troll', ' Undead',' Blood Elf'])]"
   ]
  },
  {
   "cell_type": "markdown",
   "metadata": {},
   "source": [
    "<html>\n",
    "<font color = Purple size = 4>\n",
    "<b> Filter records with valid Class values captured in log. </b>\n",
    "</font>\n",
    "</html>"
   ]
  },
  {
   "cell_type": "code",
   "execution_count": 7,
   "metadata": {
    "collapsed": true
   },
   "outputs": [],
   "source": [
    "df = df[df['Class'].isin([' Warrior', ' Shaman', ' Hunter', ' Warlock', ' Rogue', ' Druid',\n",
    "       ' Mage', ' Priest',' Paladin', ' Death Knight'])]"
   ]
  },
  {
   "cell_type": "markdown",
   "metadata": {},
   "source": [
    "<html>\n",
    "<font color = Purple size = 4>\n",
    "<b> Filter records with valid Zone values captured in log. </b>\n",
    "</font>\n",
    "</html>"
   ]
  },
  {
   "cell_type": "code",
   "execution_count": 8,
   "metadata": {
    "collapsed": true
   },
   "outputs": [],
   "source": [
    "df = df[df['Zone'].isin([' Durotar', ' The Barrens', ' Silverpine Forest',\n",
    "       ' Stonetalon Mountains', ' Thunder Bluff', ' Dustwallow Marsh',\n",
    "       ' Orgrimmar', ' Undercity', ' Ashenvale', ' Stranglethorn Vale',\n",
    "       ' Wailing Caverns', ' Tanaris', ' Maraudon', ' The Hinterlands',\n",
    "       \" Un'Goro Crater\", ' Felwood', \" The Temple of Atal'Hakkar\",\n",
    "       ' Blackrock Depths', ' Winterspring', ' Eastern Plaguelands',\n",
    "       ' Azshara', ' Scholomance', ' Arathi Basin', ' Blackrock Spire',\n",
    "       ' Blackrock Mountain', ' Moonglade', ' Mulgore',\n",
    "       ' Thousand Needles', ' Hillsbrad Foothills', ' Blackfathom Deeps',\n",
    "       ' Desolace', ' Darkshore', ' Alterac Mountains',\n",
    "       ' Swamp of Sorrows', ' Tirisfal Glades', ' Searing Gorge',\n",
    "       ' Burning Steppes', \" Zul'Farrak\", ' Feralas', ' Arathi Highlands',\n",
    "       ' Blasted Lands', ' Western Plaguelands', ' Stratholme',\n",
    "       ' Scarlet Monastery', ' Shadowfang Keep', ' Badlands',\n",
    "       ' Wetlands', ' Redridge Mountains',\n",
    "       ' Hall of Legends', ' Gnomeregan', ' Razorfen Downs', ' Duskwood',\n",
    "       ' Loch Modan', ' Silithus', ' Deadwind Pass', ' Razorfen Kraul',\n",
    "       ' Ragefire Chasm', ' Dire Maul', ' Uldaman', ' Dun Morogh',\n",
    "       ' Elwynn Forest', \" Zul'Gurub\", ' Teldrassil', ' Westfall',\n",
    "       ' Stormwind City', ' Molten Core', \" Onyxia's Lair\",\n",
    "       ' Warsong Gulch', ' Blackwing Lair', ' Deadmines',\n",
    "       \" Gates of Ahn'Qiraj\", \n",
    "       ' Alterac Valley',\n",
    "       ' Ironforge',\n",
    "       ' Hyjal',\n",
    "       ' Deeprun Tram', \" Ruins of Ahn'Qiraj\", \" Ahn'Qiraj\", ' Naxxramas',\n",
    "       ' GM Island', ' The Great Sea', ' Nagrand Arena',\n",
    "       \" Blade's Edge Arena\", \" Quel'thalas\", ' Hellfire Peninsula',\n",
    "       ' Ghostlands', ' Silvermoon City', ' Zangarmarsh',\n",
    "       ' Terokkar Forest', ' Shattrath City', ' Hellfire Ramparts',\n",
    "       ' Eversong Woods', ' Nagrand', \" Blade's Edge Mountains\",\n",
    "       ' Netherstorm', ' The Blood Furnace', ' Shadowmoon Valley',\n",
    "       ' Coilfang: The Slave Pens', ' The Steamvault', ' Eye of the Storm',\n",
    "       ' Azuremyst Isle', ' Bloodmyst Isle', ' Mana-Tombs',\n",
    "       ' Old Hillsbrad Foothills', ' Auchenai Crypts', ' Sethekk Halls',\n",
    "       ' Twisting Nether', ' The Black Morass', ' The Veiled Sea',\n",
    "       ' The Shattered Halls', ' Auchindoun: Shadow Labyrinth',\n",
    "       ' The Botanica', ' The Arcatraz', \" Gruul's Lair\", ' Karazhan',\n",
    "       \" Magtheridon's Lair\", ' The Exodar', ' The Forbidding Sea',\n",
    "       ' Ruins of Lordaeron', ' Serpentshrine Cavern', ' Tempest Keep',\n",
    "       ' The Underbog', ' The Mechanar',\n",
    "       ' Black Temple', \" Magisters' Terrace\", \" Isle of Quel'Danas\",\n",
    "       ' Sunwell Plateau', ' The North Sea', ' The Ring of Valor',\n",
    "       ' Plaguelands: The Scarlet Enclave', ' Borean Tundra',\n",
    "       ' Dragonblight', ' Howling Fjord', ' The Nexus', ' Grizzly Hills',\n",
    "       ' Sholazar Basin', ' Crystalsong Forest', ' The Frozen Sea',\n",
    "       ' Utgarde Keep', ' Azjol-Nerub', ' The Storm Peaks', ' Icecrown',\n",
    "       ' Dalaran', \" Ahn'kahet: The Old Kingdom\", \" Zul'Drak\",\n",
    "       ' The Violet Hold', ' Wintergrasp', ' Strand of the Ancients',\n",
    "       \" Drak'Tharon Keep\", ' Gundrak', ' The Culling of Stratholme',\n",
    "       ' The Oculus', ' Halls of Lightning', ' Halls of Stone',\n",
    "       ' Utgarde Pinnacle', ' Vault of Archavon', ' The Eye of Eternity',\n",
    "       ' The Obsidian Sanctum'])]"
   ]
  },
  {
   "cell_type": "code",
   "execution_count": 9,
   "metadata": {},
   "outputs": [
    {
     "data": {
      "text/plain": [
       "array([' Durotar', ' The Barrens', ' Silverpine Forest',\n",
       "       ' Stonetalon Mountains', ' Thunder Bluff', ' Dustwallow Marsh',\n",
       "       ' Orgrimmar', ' Undercity', ' Ashenvale', ' Stranglethorn Vale',\n",
       "       ' Wailing Caverns', ' Tanaris', ' Maraudon', ' The Hinterlands',\n",
       "       \" Un'Goro Crater\", ' Felwood', \" The Temple of Atal'Hakkar\",\n",
       "       ' Blackrock Depths', ' Winterspring', ' Eastern Plaguelands',\n",
       "       ' Azshara', ' Scholomance', ' Arathi Basin', ' Blackrock Spire',\n",
       "       ' Blackrock Mountain', ' Moonglade', ' Mulgore',\n",
       "       ' Thousand Needles', ' Hillsbrad Foothills', ' Blackfathom Deeps',\n",
       "       ' Desolace', ' Darkshore', ' Alterac Mountains',\n",
       "       ' Swamp of Sorrows', ' Tirisfal Glades', ' Searing Gorge',\n",
       "       ' Burning Steppes', \" Zul'Farrak\", ' Feralas', ' Arathi Highlands',\n",
       "       ' Blasted Lands', ' Western Plaguelands', ' Stratholme',\n",
       "       ' Scarlet Monastery', ' Shadowfang Keep', ' Badlands', ' Wetlands',\n",
       "       ' Redridge Mountains', ' Hall of Legends', ' Gnomeregan',\n",
       "       ' Razorfen Downs', ' Duskwood', ' Loch Modan', ' Silithus',\n",
       "       ' Deadwind Pass', ' Razorfen Kraul', ' Ragefire Chasm',\n",
       "       ' Dire Maul', ' Uldaman', ' Dun Morogh', ' Elwynn Forest',\n",
       "       \" Zul'Gurub\", ' Teldrassil', ' Westfall', ' Stormwind City',\n",
       "       ' Molten Core', \" Onyxia's Lair\", ' Warsong Gulch',\n",
       "       ' Blackwing Lair', ' Deadmines', \" Gates of Ahn'Qiraj\",\n",
       "       ' Alterac Valley', ' Ironforge', ' Hyjal', ' Deeprun Tram',\n",
       "       \" Ruins of Ahn'Qiraj\", \" Ahn'Qiraj\", ' Naxxramas', ' GM Island',\n",
       "       ' The Great Sea', ' Nagrand Arena', \" Blade's Edge Arena\",\n",
       "       \" Quel'thalas\", ' Hellfire Peninsula', ' Ghostlands',\n",
       "       ' Silvermoon City', ' Zangarmarsh', ' Terokkar Forest',\n",
       "       ' Shattrath City', ' Hellfire Ramparts', ' Eversong Woods',\n",
       "       ' Nagrand', \" Blade's Edge Mountains\", ' Netherstorm',\n",
       "       ' The Blood Furnace', ' Shadowmoon Valley',\n",
       "       ' Coilfang: The Slave Pens', ' The Steamvault', ' Eye of the Storm',\n",
       "       ' Azuremyst Isle', ' Bloodmyst Isle', ' Mana-Tombs',\n",
       "       ' Old Hillsbrad Foothills', ' Auchenai Crypts', ' Sethekk Halls',\n",
       "       ' Twisting Nether', ' The Black Morass', ' The Veiled Sea',\n",
       "       ' The Shattered Halls', ' Auchindoun: Shadow Labyrinth',\n",
       "       ' The Botanica', ' The Arcatraz', \" Gruul's Lair\", ' Karazhan',\n",
       "       \" Magtheridon's Lair\", ' The Exodar', ' The Forbidding Sea',\n",
       "       ' Ruins of Lordaeron', ' Serpentshrine Cavern', ' Tempest Keep',\n",
       "       ' The Underbog', ' The Mechanar', ' Black Temple',\n",
       "       \" Magisters' Terrace\", \" Isle of Quel'Danas\", ' Sunwell Plateau',\n",
       "       ' The North Sea', ' The Ring of Valor',\n",
       "       ' Plaguelands: The Scarlet Enclave', ' Borean Tundra',\n",
       "       ' Dragonblight', ' Howling Fjord', ' The Nexus', ' Grizzly Hills',\n",
       "       ' Sholazar Basin', ' Crystalsong Forest', ' The Frozen Sea',\n",
       "       ' Utgarde Keep', ' Azjol-Nerub', ' The Storm Peaks', ' Icecrown',\n",
       "       ' Dalaran', \" Ahn'kahet: The Old Kingdom\", \" Zul'Drak\",\n",
       "       ' The Violet Hold', ' Wintergrasp', ' Strand of the Ancients',\n",
       "       \" Drak'Tharon Keep\", ' Gundrak', ' The Culling of Stratholme',\n",
       "       ' The Oculus', ' Halls of Lightning', ' Halls of Stone',\n",
       "       ' Utgarde Pinnacle', ' Vault of Archavon', ' The Eye of Eternity',\n",
       "       ' The Obsidian Sanctum'], dtype=object)"
      ]
     },
     "execution_count": 9,
     "metadata": {},
     "output_type": "execute_result"
    }
   ],
   "source": [
    "df.Zone.unique()"
   ]
  },
  {
   "cell_type": "code",
   "execution_count": 11,
   "metadata": {
    "collapsed": true
   },
   "outputs": [],
   "source": [
    "df.to_csv(\"newlogs.csv\", sep=',', encoding='utf-8')"
   ]
  },
  {
   "cell_type": "markdown",
   "metadata": {},
   "source": [
    "<html>\n",
    "<font color = blue>\n",
    "<b> Note: We have removed 1% of the records (420491 out of 41063255) to avoid incorrect analysis and inferences from warcraft logs. This data is relatively less compared to the total size of warcraft logs we have gathered. </b>\n",
    "</font>\n",
    "</html>"
   ]
  }
 ],
 "metadata": {
  "kernelspec": {
   "display_name": "Python 3",
   "language": "python",
   "name": "python3"
  },
  "language_info": {
   "codemirror_mode": {
    "name": "ipython",
    "version": 3
   },
   "file_extension": ".py",
   "mimetype": "text/x-python",
   "name": "python",
   "nbconvert_exporter": "python",
   "pygments_lexer": "ipython3",
   "version": "3.6.3"
  }
 },
 "nbformat": 4,
 "nbformat_minor": 2
}
