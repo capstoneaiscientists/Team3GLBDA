{
 "cells": [
  {
   "cell_type": "code",
   "execution_count": 4,
   "metadata": {
    "collapsed": true
   },
   "outputs": [],
   "source": [
    "from pyspark import SparkContext\n",
    "from pyspark.sql import SQLContext\n",
    "sc = SparkContext.getOrCreate()\n",
    "spark = SQLContext(sc)\n",
    "sqlContext = SQLContext(sc)"
   ]
  },
  {
   "cell_type": "code",
   "execution_count": 5,
   "metadata": {
    "collapsed": true
   },
   "outputs": [],
   "source": [
    "wow_data = sqlContext.read.load('file:////home/deepannrr3037/wow_data_wtLabel_C.csv/', \n",
    "                          delimiter=',',\n",
    "                          format='com.databricks.spark.csv', \n",
    "                          header='true', \n",
    "                          inferSchema='true')"
   ]
  },
  {
   "cell_type": "code",
   "execution_count": 6,
   "metadata": {},
   "outputs": [
    {
     "name": "stdout",
     "output_type": "stream",
     "text": [
      "+---+--------+---------------+----------------+-------------+-----------+-------+-------+-------+--------+-----------+----------+-----------+-------------+------------+-----------+------------+-------------+-----------+----------+------------+-----+\n",
      "|_c0|AvatarID|Total_days_actv|Actual_days_actv| Active_Ratio|Total_login|Level_l|Level_m|Level_h|Race_Orc|Race_Tauren|Race_Troll|Race_Undead|Class_Warrior|Class_Hunter|Class_Rogue|Class_Shaman|Class_Warlock|Class_Druid|Class_Mage|Class_Priest|Churn|\n",
      "+---+--------+---------------+----------------+-------------+-----------+-------+-------+-------+--------+-----------+----------+-----------+-------------+------------+-----------+------------+-------------+-----------+----------+------------+-----+\n",
      "|  0|     148|            748|              66|8.82352941176|       1202|      0|      0|      1|       0|          1|         0|          0|            0|           0|          0|           1|            0|          0|         0|           0|    1|\n",
      "|  1|     463|           3307|             158|4.77774417901|       2412|      0|      0|      1|       0|          0|         0|          1|            0|           0|          0|           0|            0|          0|         0|           1|    1|\n",
      "|  2|     471|             12|              11|91.6666666667|        253|      0|      0|      1|       1|          0|         0|          0|            1|           0|          0|           0|            0|          0|         0|           0|    1|\n",
      "|  3|     496|              0|               1|         null|          2|      1|      0|      0|       1|          0|         0|          0|            1|           0|          0|           0|            0|          0|         0|           0|    1|\n",
      "|  4|     833|              0|               1|         null|          1|      1|      0|      0|       1|          0|         0|          0|            1|           0|          0|           0|            0|          0|         0|           0|    1|\n",
      "|  5|    1088|           3297|              70|2.12314225053|       1527|      0|      0|      1|       0|          1|         0|          0|            1|           0|          0|           0|            0|          0|         0|           0|    1|\n",
      "|  6|    1238|           2576|              93| 3.6102484472|       1018|      0|      0|      1|       0|          0|         0|          1|            0|           0|          0|           0|            0|          0|         0|           1|    1|\n",
      "|  7|    1342|           3676|              76|2.06746463547|        658|      0|      1|      0|       0|          0|         1|          0|            0|           0|          0|           1|            0|          0|         0|           0|    1|\n",
      "|  8|    1580|           2581|             103|3.99070127857|       1232|      0|      0|      1|       1|          0|         0|          0|            0|           1|          0|           0|            0|          0|         0|           0|    1|\n",
      "|  9|    1591|            741|              49|6.61268556005|       1598|      0|      0|      1|       1|          0|         0|          0|            0|           1|          0|           0|            0|          0|         0|           0|    1|\n",
      "| 10|    1645|           3677|              76|2.06690236606|        482|      0|      0|      1|       0|          1|         0|          0|            1|           0|          0|           0|            0|          0|         0|           0|    1|\n",
      "| 11|    1829|              0|               1|         null|          1|      1|      0|      0|       0|          0|         0|          1|            0|           0|          1|           0|            0|          0|         0|           0|    1|\n",
      "| 12|    1959|           3679|             134|3.64229410166|       1723|      0|      0|      1|       0|          0|         0|          1|            0|           0|          0|           0|            1|          0|         0|           0|    1|\n",
      "| 13|    2122|           3664|              67|1.82860262009|         95|      1|      0|      0|       0|          1|         0|          0|            0|           0|          0|           1|            0|          0|         0|           0|    1|\n",
      "| 14|    2142|              0|               1|         null|         10|      1|      0|      0|       1|          0|         0|          0|            1|           0|          0|           0|            0|          0|         0|           0|    1|\n",
      "| 15|    2366|           3671|              49|1.33478616181|        232|      1|      0|      0|       1|          0|         0|          0|            1|           0|          0|           0|            0|          0|         0|           0|    1|\n",
      "| 16|    2659|           1464|              20|1.36612021858|        123|      1|      0|      0|       0|          0|         1|          0|            0|           0|          0|           1|            0|          0|         0|           0|    1|\n",
      "| 17|    2866|           3674|             248|6.75013609145|       5773|      0|      0|      1|       0|          0|         0|          1|            0|           0|          0|           0|            0|          0|         0|           1|    1|\n",
      "| 18|    3175|              0|               1|         null|          2|      1|      0|      0|       0|          1|         0|          0|            0|           0|          0|           1|            0|          0|         0|           0|    1|\n",
      "| 19|    3749|              0|               1|         null|          2|      1|      0|      0|       1|          0|         0|          0|            1|           0|          0|           0|            0|          0|         0|           0|    1|\n",
      "+---+--------+---------------+----------------+-------------+-----------+-------+-------+-------+--------+-----------+----------+-----------+-------------+------------+-----------+------------+-------------+-----------+----------+------------+-----+\n",
      "only showing top 20 rows\n",
      "\n"
     ]
    }
   ],
   "source": [
    "wow_data.show()"
   ]
  },
  {
   "cell_type": "code",
   "execution_count": 7,
   "metadata": {
    "collapsed": true
   },
   "outputs": [],
   "source": [
    "import warnings\n",
    "warnings.filterwarnings('ignore')\n",
    "\n",
    "%matplotlib inline\n",
    "import pandas as pd\n",
    "pd.options.display.mpl_style = 'default'"
   ]
  },
  {
   "cell_type": "code",
   "execution_count": 8,
   "metadata": {
    "collapsed": true
   },
   "outputs": [],
   "source": [
    "wow_data_pd = wow_data.toPandas()"
   ]
  },
  {
   "cell_type": "markdown",
   "metadata": {},
   "source": [
    "Define the categorical variables"
   ]
  },
  {
   "cell_type": "code",
   "execution_count": 9,
   "metadata": {
    "collapsed": true
   },
   "outputs": [],
   "source": [
    "wow_data_pd['Level_l']= wow_data_pd['Level_l'].astype('category')\n",
    "wow_data_pd['Level_m']= wow_data_pd['Level_m'].astype('category')\n",
    "wow_data_pd['Level_h']= wow_data_pd['Level_h'].astype('category')\n",
    "wow_data_pd['Race_Orc']= wow_data_pd['Race_Orc'].astype('category')\n",
    "wow_data_pd['Race_Tauren']= wow_data_pd['Race_Tauren'].astype('category')\n",
    "wow_data_pd['Race_Troll']= wow_data_pd['Race_Troll'].astype('category')\n",
    "wow_data_pd['Race_Undead']= wow_data_pd['Race_Undead'].astype('category')\n",
    "wow_data_pd['Class_Warrior']= wow_data_pd['Class_Warrior'].astype('category')\n",
    "wow_data_pd['Class_Hunter']= wow_data_pd['Class_Hunter'].astype('category')\n",
    "wow_data_pd['Class_Rogue']= wow_data_pd['Class_Rogue'].astype('category')\n",
    "wow_data_pd['Class_Shaman']= wow_data_pd['Class_Shaman'].astype('category')\n",
    "wow_data_pd['Class_Warlock']= wow_data_pd['Class_Warlock'].astype('category')\n",
    "wow_data_pd['Class_Druid']= wow_data_pd['Class_Druid'].astype('category')\n",
    "wow_data_pd['Class_Mage']= wow_data_pd['Class_Mage'].astype('category')\n",
    "wow_data_pd['Class_Priest']= wow_data_pd['Class_Priest'].astype('category')\n",
    "wow_data_pd['Churn']= wow_data_pd['Churn'].astype('category')"
   ]
  },
  {
   "cell_type": "code",
   "execution_count": 10,
   "metadata": {},
   "outputs": [
    {
     "data": {
      "text/html": [
       "<div>\n",
       "<style>\n",
       "    .dataframe thead tr:only-child th {\n",
       "        text-align: right;\n",
       "    }\n",
       "\n",
       "    .dataframe thead th {\n",
       "        text-align: left;\n",
       "    }\n",
       "\n",
       "    .dataframe tbody tr th {\n",
       "        vertical-align: top;\n",
       "    }\n",
       "</style>\n",
       "<table border=\"1\" class=\"dataframe\">\n",
       "  <thead>\n",
       "    <tr style=\"text-align: right;\">\n",
       "      <th></th>\n",
       "      <th>count</th>\n",
       "      <th>mean</th>\n",
       "      <th>std</th>\n",
       "      <th>min</th>\n",
       "      <th>25%</th>\n",
       "      <th>50%</th>\n",
       "      <th>75%</th>\n",
       "      <th>max</th>\n",
       "    </tr>\n",
       "  </thead>\n",
       "  <tbody>\n",
       "    <tr>\n",
       "      <th>_c0</th>\n",
       "      <td>26165.0</td>\n",
       "      <td>13082.000000</td>\n",
       "      <td>7553.329233</td>\n",
       "      <td>0.000000</td>\n",
       "      <td>6541.000000</td>\n",
       "      <td>13082.000000</td>\n",
       "      <td>19623.0</td>\n",
       "      <td>26164.0</td>\n",
       "    </tr>\n",
       "    <tr>\n",
       "      <th>AvatarID</th>\n",
       "      <td>26165.0</td>\n",
       "      <td>13088.464131</td>\n",
       "      <td>7555.040379</td>\n",
       "      <td>0.000000</td>\n",
       "      <td>6547.000000</td>\n",
       "      <td>13088.000000</td>\n",
       "      <td>19630.0</td>\n",
       "      <td>26175.0</td>\n",
       "    </tr>\n",
       "    <tr>\n",
       "      <th>Total_days_actv</th>\n",
       "      <td>26165.0</td>\n",
       "      <td>590.118823</td>\n",
       "      <td>1044.298194</td>\n",
       "      <td>0.000000</td>\n",
       "      <td>0.000000</td>\n",
       "      <td>5.000000</td>\n",
       "      <td>729.0</td>\n",
       "      <td>4017.0</td>\n",
       "    </tr>\n",
       "    <tr>\n",
       "      <th>Actual_days_actv</th>\n",
       "      <td>26165.0</td>\n",
       "      <td>17.088745</td>\n",
       "      <td>41.990883</td>\n",
       "      <td>1.000000</td>\n",
       "      <td>1.000000</td>\n",
       "      <td>2.000000</td>\n",
       "      <td>11.0</td>\n",
       "      <td>332.0</td>\n",
       "    </tr>\n",
       "    <tr>\n",
       "      <th>Active_Ratio</th>\n",
       "      <td>15934.0</td>\n",
       "      <td>40.357686</td>\n",
       "      <td>61.017121</td>\n",
       "      <td>0.054615</td>\n",
       "      <td>1.117318</td>\n",
       "      <td>4.919914</td>\n",
       "      <td>62.5</td>\n",
       "      <td>200.0</td>\n",
       "    </tr>\n",
       "    <tr>\n",
       "      <th>Total_login</th>\n",
       "      <td>26165.0</td>\n",
       "      <td>370.782725</td>\n",
       "      <td>1342.756190</td>\n",
       "      <td>1.000000</td>\n",
       "      <td>2.000000</td>\n",
       "      <td>10.000000</td>\n",
       "      <td>87.0</td>\n",
       "      <td>43436.0</td>\n",
       "    </tr>\n",
       "  </tbody>\n",
       "</table>\n",
       "</div>"
      ],
      "text/plain": [
       "                    count          mean          std       min          25%  \\\n",
       "_c0               26165.0  13082.000000  7553.329233  0.000000  6541.000000   \n",
       "AvatarID          26165.0  13088.464131  7555.040379  0.000000  6547.000000   \n",
       "Total_days_actv   26165.0    590.118823  1044.298194  0.000000     0.000000   \n",
       "Actual_days_actv  26165.0     17.088745    41.990883  1.000000     1.000000   \n",
       "Active_Ratio      15934.0     40.357686    61.017121  0.054615     1.117318   \n",
       "Total_login       26165.0    370.782725  1342.756190  1.000000     2.000000   \n",
       "\n",
       "                           50%      75%      max  \n",
       "_c0               13082.000000  19623.0  26164.0  \n",
       "AvatarID          13088.000000  19630.0  26175.0  \n",
       "Total_days_actv       5.000000    729.0   4017.0  \n",
       "Actual_days_actv      2.000000     11.0    332.0  \n",
       "Active_Ratio          4.919914     62.5    200.0  \n",
       "Total_login          10.000000     87.0  43436.0  "
      ]
     },
     "execution_count": 10,
     "metadata": {},
     "output_type": "execute_result"
    }
   ],
   "source": [
    "wow_data_pd.describe().transpose()"
   ]
  },
  {
   "cell_type": "code",
   "execution_count": 11,
   "metadata": {
    "collapsed": true
   },
   "outputs": [],
   "source": [
    "import warnings\n",
    "warnings.filterwarnings('ignore')\n",
    "%matplotlib inline\n",
    "import random\n",
    "import matplotlib.pyplot as plt\n",
    "import pandas as pd\n",
    "import numpy as np"
   ]
  },
  {
   "cell_type": "code",
   "execution_count": 12,
   "metadata": {
    "collapsed": true
   },
   "outputs": [],
   "source": [
    "num_bins = 10"
   ]
  },
  {
   "cell_type": "code",
   "execution_count": 13,
   "metadata": {},
   "outputs": [
    {
     "data": {
      "text/html": [
       "<div>\n",
       "<style>\n",
       "    .dataframe thead tr:only-child th {\n",
       "        text-align: right;\n",
       "    }\n",
       "\n",
       "    .dataframe thead th {\n",
       "        text-align: left;\n",
       "    }\n",
       "\n",
       "    .dataframe tbody tr th {\n",
       "        vertical-align: top;\n",
       "    }\n",
       "</style>\n",
       "<table border=\"1\" class=\"dataframe\">\n",
       "  <thead>\n",
       "    <tr style=\"text-align: right;\">\n",
       "      <th></th>\n",
       "      <th>0</th>\n",
       "      <th>1</th>\n",
       "      <th>2</th>\n",
       "      <th>3</th>\n",
       "      <th>4</th>\n",
       "    </tr>\n",
       "  </thead>\n",
       "  <tbody>\n",
       "    <tr>\n",
       "      <th>summary</th>\n",
       "      <td>count</td>\n",
       "      <td>mean</td>\n",
       "      <td>stddev</td>\n",
       "      <td>min</td>\n",
       "      <td>max</td>\n",
       "    </tr>\n",
       "    <tr>\n",
       "      <th>Total_days_actv</th>\n",
       "      <td>24259</td>\n",
       "      <td>635.3651428335876</td>\n",
       "      <td>1071.5101499594389</td>\n",
       "      <td>0</td>\n",
       "      <td>4017</td>\n",
       "    </tr>\n",
       "    <tr>\n",
       "      <th>Actual_days_actv</th>\n",
       "      <td>24259</td>\n",
       "      <td>17.536625582258132</td>\n",
       "      <td>43.514777166096884</td>\n",
       "      <td>1</td>\n",
       "      <td>332</td>\n",
       "    </tr>\n",
       "    <tr>\n",
       "      <th>Active_Ratio</th>\n",
       "      <td>14028</td>\n",
       "      <td>32.966761391452174</td>\n",
       "      <td>59.18680683958018</td>\n",
       "      <td>0.0546149645003</td>\n",
       "      <td>200.0</td>\n",
       "    </tr>\n",
       "    <tr>\n",
       "      <th>Total_login</th>\n",
       "      <td>24259</td>\n",
       "      <td>380.41073416051773</td>\n",
       "      <td>1390.4451344516908</td>\n",
       "      <td>1</td>\n",
       "      <td>43436</td>\n",
       "    </tr>\n",
       "  </tbody>\n",
       "</table>\n",
       "</div>"
      ],
      "text/plain": [
       "                      0                   1                   2  \\\n",
       "summary           count                mean              stddev   \n",
       "Total_days_actv   24259   635.3651428335876  1071.5101499594389   \n",
       "Actual_days_actv  24259  17.536625582258132  43.514777166096884   \n",
       "Active_Ratio      14028  32.966761391452174   59.18680683958018   \n",
       "Total_login       24259  380.41073416051773  1390.4451344516908   \n",
       "\n",
       "                                3      4  \n",
       "summary                       min    max  \n",
       "Total_days_actv                 0   4017  \n",
       "Actual_days_actv                1    332  \n",
       "Active_Ratio      0.0546149645003  200.0  \n",
       "Total_login                     1  43436  "
      ]
     },
     "execution_count": 13,
     "metadata": {},
     "output_type": "execute_result"
    }
   ],
   "source": [
    "wow_data.filter(wow_data.Churn == 1).describe('Total_days_actv','Actual_days_actv','Active_Ratio','Total_login').toPandas().transpose()"
   ]
  },
  {
   "cell_type": "code",
   "execution_count": 14,
   "metadata": {},
   "outputs": [
    {
     "data": {
      "text/html": [
       "<div>\n",
       "<style>\n",
       "    .dataframe thead tr:only-child th {\n",
       "        text-align: right;\n",
       "    }\n",
       "\n",
       "    .dataframe thead th {\n",
       "        text-align: left;\n",
       "    }\n",
       "\n",
       "    .dataframe tbody tr th {\n",
       "        vertical-align: top;\n",
       "    }\n",
       "</style>\n",
       "<table border=\"1\" class=\"dataframe\">\n",
       "  <thead>\n",
       "    <tr style=\"text-align: right;\">\n",
       "      <th></th>\n",
       "      <th>0</th>\n",
       "      <th>1</th>\n",
       "      <th>2</th>\n",
       "      <th>3</th>\n",
       "      <th>4</th>\n",
       "    </tr>\n",
       "  </thead>\n",
       "  <tbody>\n",
       "    <tr>\n",
       "      <th>summary</th>\n",
       "      <td>count</td>\n",
       "      <td>mean</td>\n",
       "      <td>stddev</td>\n",
       "      <td>min</td>\n",
       "      <td>max</td>\n",
       "    </tr>\n",
       "    <tr>\n",
       "      <th>Total_days_actv</th>\n",
       "      <td>1906</td>\n",
       "      <td>14.237145855194123</td>\n",
       "      <td>9.575526823591412</td>\n",
       "      <td>1</td>\n",
       "      <td>28</td>\n",
       "    </tr>\n",
       "    <tr>\n",
       "      <th>Actual_days_actv</th>\n",
       "      <td>1906</td>\n",
       "      <td>11.388247639034628</td>\n",
       "      <td>8.357708081865947</td>\n",
       "      <td>2</td>\n",
       "      <td>28</td>\n",
       "    </tr>\n",
       "    <tr>\n",
       "      <th>Active_Ratio</th>\n",
       "      <td>1906</td>\n",
       "      <td>94.75427049777126</td>\n",
       "      <td>44.52242744453698</td>\n",
       "      <td>40.9090909091</td>\n",
       "      <td>200.0</td>\n",
       "    </tr>\n",
       "    <tr>\n",
       "      <th>Total_login</th>\n",
       "      <td>1906</td>\n",
       "      <td>248.24029380902414</td>\n",
       "      <td>357.7152344361856</td>\n",
       "      <td>2</td>\n",
       "      <td>3210</td>\n",
       "    </tr>\n",
       "  </tbody>\n",
       "</table>\n",
       "</div>"
      ],
      "text/plain": [
       "                      0                   1                  2              3  \\\n",
       "summary           count                mean             stddev            min   \n",
       "Total_days_actv    1906  14.237145855194123  9.575526823591412              1   \n",
       "Actual_days_actv   1906  11.388247639034628  8.357708081865947              2   \n",
       "Active_Ratio       1906   94.75427049777126  44.52242744453698  40.9090909091   \n",
       "Total_login        1906  248.24029380902414  357.7152344361856              2   \n",
       "\n",
       "                      4  \n",
       "summary             max  \n",
       "Total_days_actv      28  \n",
       "Actual_days_actv     28  \n",
       "Active_Ratio      200.0  \n",
       "Total_login        3210  "
      ]
     },
     "execution_count": 14,
     "metadata": {},
     "output_type": "execute_result"
    }
   ],
   "source": [
    "wow_data.filter(wow_data.Churn == 0).describe('Total_days_actv','Actual_days_actv','Active_Ratio','Total_login').toPandas().transpose()"
   ]
  },
  {
   "cell_type": "code",
   "execution_count": 15,
   "metadata": {},
   "outputs": [
    {
     "data": {
      "image/png": "[encoded data removed]",
      "text/plain": [
       "<matplotlib.figure.Figure at 0x7f11b9765a90>"
      ]
     },
     "metadata": {},
     "output_type": "display_data"
    }
   ],
   "source": [
    "fig = plt.figure()\n",
    "fig.set_figheight(5)\n",
    "fig.set_figwidth(15)\n",
    "\n",
    "#Total Active Days\n",
    "ax1 = fig.add_subplot(131)\n",
    "ax1.hist(np.array(wow_data.select(\"Total_days_actv\").collect()), num_bins, normed=0, facecolor='#ee1a46', alpha=0.5,label=\"Total Active Days\")\n",
    "plt.legend(loc='upper right')\n",
    "plt.title(\"Total Active Days\")\n",
    "\n",
    "#Actual Active Days\n",
    "ax2 = fig.add_subplot(132)\n",
    "ax2.hist(np.array(wow_data.select(\"Actual_days_actv\").collect()), num_bins, normed=0, facecolor='#116163', alpha=0.5,label=\"Actual Active Days\")\n",
    "plt.legend(loc='upper right')\n",
    "plt.title(\"Actual Active Days\")\n",
    "\n",
    "#Total Login Count\n",
    "ax3 = fig.add_subplot(133)\n",
    "ax3.hist(np.array(wow_data.select(\"Total_login\").collect()), num_bins, normed=0, facecolor='orange', alpha=0.5,label=\"Total login\")\n",
    "plt.legend(loc='upper right')\n",
    "plt.title(\"Total login\")\n",
    "\n",
    "plt.show()\n",
    "\n",
    "plt.show()"
   ]
  },
  {
   "cell_type": "code",
   "execution_count": 16,
   "metadata": {},
   "outputs": [
    {
     "data": {
      "text/html": [
       "<div>\n",
       "<style>\n",
       "    .dataframe thead tr:only-child th {\n",
       "        text-align: right;\n",
       "    }\n",
       "\n",
       "    .dataframe thead th {\n",
       "        text-align: left;\n",
       "    }\n",
       "\n",
       "    .dataframe tbody tr th {\n",
       "        vertical-align: top;\n",
       "    }\n",
       "</style>\n",
       "<table border=\"1\" class=\"dataframe\">\n",
       "  <thead>\n",
       "    <tr style=\"text-align: right;\">\n",
       "      <th></th>\n",
       "      <th>_c0</th>\n",
       "      <th>AvatarID</th>\n",
       "      <th>Total_days_actv</th>\n",
       "      <th>Actual_days_actv</th>\n",
       "      <th>Active_Ratio</th>\n",
       "      <th>Total_login</th>\n",
       "    </tr>\n",
       "  </thead>\n",
       "  <tbody>\n",
       "    <tr>\n",
       "      <th>_c0</th>\n",
       "      <td>1.000000</td>\n",
       "      <td>0.002681</td>\n",
       "      <td>-0.003216</td>\n",
       "      <td>-0.002908</td>\n",
       "      <td>0.006564</td>\n",
       "      <td>-0.004828</td>\n",
       "    </tr>\n",
       "    <tr>\n",
       "      <th>AvatarID</th>\n",
       "      <td>0.002681</td>\n",
       "      <td>1.000000</td>\n",
       "      <td>-0.456841</td>\n",
       "      <td>-0.320338</td>\n",
       "      <td>0.283750</td>\n",
       "      <td>-0.246793</td>\n",
       "    </tr>\n",
       "    <tr>\n",
       "      <th>Total_days_actv</th>\n",
       "      <td>-0.003216</td>\n",
       "      <td>-0.456841</td>\n",
       "      <td>1.000000</td>\n",
       "      <td>0.690411</td>\n",
       "      <td>-0.499537</td>\n",
       "      <td>0.510956</td>\n",
       "    </tr>\n",
       "    <tr>\n",
       "      <th>Actual_days_actv</th>\n",
       "      <td>-0.002908</td>\n",
       "      <td>-0.320338</td>\n",
       "      <td>0.690411</td>\n",
       "      <td>1.000000</td>\n",
       "      <td>-0.248161</td>\n",
       "      <td>0.884640</td>\n",
       "    </tr>\n",
       "    <tr>\n",
       "      <th>Active_Ratio</th>\n",
       "      <td>0.006564</td>\n",
       "      <td>0.283750</td>\n",
       "      <td>-0.499537</td>\n",
       "      <td>-0.248161</td>\n",
       "      <td>1.000000</td>\n",
       "      <td>-0.166998</td>\n",
       "    </tr>\n",
       "    <tr>\n",
       "      <th>Total_login</th>\n",
       "      <td>-0.004828</td>\n",
       "      <td>-0.246793</td>\n",
       "      <td>0.510956</td>\n",
       "      <td>0.884640</td>\n",
       "      <td>-0.166998</td>\n",
       "      <td>1.000000</td>\n",
       "    </tr>\n",
       "  </tbody>\n",
       "</table>\n",
       "</div>"
      ],
      "text/plain": [
       "                       _c0  AvatarID  Total_days_actv  Actual_days_actv  \\\n",
       "_c0               1.000000  0.002681        -0.003216         -0.002908   \n",
       "AvatarID          0.002681  1.000000        -0.456841         -0.320338   \n",
       "Total_days_actv  -0.003216 -0.456841         1.000000          0.690411   \n",
       "Actual_days_actv -0.002908 -0.320338         0.690411          1.000000   \n",
       "Active_Ratio      0.006564  0.283750        -0.499537         -0.248161   \n",
       "Total_login      -0.004828 -0.246793         0.510956          0.884640   \n",
       "\n",
       "                  Active_Ratio  Total_login  \n",
       "_c0                   0.006564    -0.004828  \n",
       "AvatarID              0.283750    -0.246793  \n",
       "Total_days_actv      -0.499537     0.510956  \n",
       "Actual_days_actv     -0.248161     0.884640  \n",
       "Active_Ratio          1.000000    -0.166998  \n",
       "Total_login          -0.166998     1.000000  "
      ]
     },
     "execution_count": 16,
     "metadata": {},
     "output_type": "execute_result"
    }
   ],
   "source": [
    "wow_data_pd.corr()"
   ]
  },
  {
   "cell_type": "code",
   "execution_count": 17,
   "metadata": {},
   "outputs": [
    {
     "data": {
      "image/png": "[encoded data removed]",
      "text/plain": [
       "<matplotlib.figure.Figure at 0x7f11b0edb8d0>"
      ]
     },
     "metadata": {},
     "output_type": "display_data"
    }
   ],
   "source": [
    "\n",
    "\n",
    "sampled_data = wow_data.select('Total_days_actv','Actual_days_actv','Active_Ratio','Total_login').sample(False, 0.10).toPandas()\n",
    "\n",
    "axs = pd.scatter_matrix(sampled_data, figsize=(12, 12));\n",
    "\n",
    "# Rotate axis labels and remove axis ticks\n",
    "n = len(sampled_data.columns)\n",
    "for i in range(n):\n",
    "    v = axs[i, 0]\n",
    "    v.yaxis.label.set_rotation(0)\n",
    "    v.yaxis.label.set_ha('right')\n",
    "    v.set_yticks(())\n",
    "    h = axs[n-1, i]\n",
    "    h.xaxis.label.set_rotation(90)\n",
    "    h.set_xticks(())"
   ]
  },
  {
   "cell_type": "code",
   "execution_count": 18,
   "metadata": {
    "collapsed": true
   },
   "outputs": [],
   "source": [
    "wow_data_dt = wow_data.select(\"Level_l\",\"Level_m\",\"Level_h\",\"Race_Orc\",\"Race_Tauren\",\"Race_Troll\",\"Race_Undead\",\"Class_Warrior\",\"Class_Hunter\",\"Class_Rogue\",\n",
    "                              \"Class_Shaman\",\"Class_Warlock\",\"Class_Druid\",\"Class_Mage\",\"Class_Priest\",\"Churn\")"
   ]
  },
  {
   "cell_type": "markdown",
   "metadata": {},
   "source": [
    "### Applying the Decision Tree Algorithm"
   ]
  },
  {
   "cell_type": "markdown",
   "metadata": {},
   "source": [
    "The prepared data set  is  split in to training and testing sets. A decision tree classifier model is then generated using the training data, using a maxDepth of 2, to build a \"shallow\" tree. The tree depth can be regarded as an indicator of model complexity."
   ]
  },
  {
   "cell_type": "code",
   "execution_count": 19,
   "metadata": {},
   "outputs": [
    {
     "name": "stdout",
     "output_type": "stream",
     "text": [
      "DecisionTreeModel classifier of depth 2 with 7 nodes\n",
      "  If (feature 0 in {0.0})\n",
      "   If (feature 1 in {1.0})\n",
      "    Predict: 1.0\n",
      "   Else (feature 1 not in {1.0})\n",
      "    Predict: 1.0\n",
      "  Else (feature 0 not in {0.0})\n",
      "   If (feature 14 in {1.0})\n",
      "    Predict: 1.0\n",
      "   Else (feature 14 not in {1.0})\n",
      "    Predict: 1.0\n",
      "\n"
     ]
    }
   ],
   "source": [
    "from pyspark.mllib.regression import LabeledPoint\n",
    "from pyspark.mllib.tree import DecisionTree\n",
    "\n",
    "def labelData(data):\n",
    "    # label: row[end], features: row[0:end-1]\n",
    "    return data.rdd.map(lambda row: LabeledPoint(row[-1], row[:-1]))\n",
    "\n",
    "training_data, testing_data = labelData(wow_data_dt).randomSplit([0.8, 0.2])\n",
    "\n",
    "model = DecisionTree.trainClassifier(training_data, numClasses=2, maxDepth=2,\n",
    "                                     categoricalFeaturesInfo = {0:2,1:2,2:2,3:2,4:2,5:2,6:2,7:2,8:2,9:2,10:2,11:2,12:2,13:2,14:2},\n",
    "                                     impurity='gini', maxBins=32)\n",
    "\n",
    "print model.toDebugString()"
   ]
  },
  {
   "cell_type": "markdown",
   "metadata": {},
   "source": [
    "The toDebugString() function provides a print of the trees decision nodes and final prediction outcomes at the end leafs. We can see that features 14 and 1 are used for decision making and should thus be considered as having high predictive power to determine a user's likeliness to churn.The featues map to the perticular Race and whether the user has reached a medium level in play. Decision trees are often used for feature selection because they provide an automated mechanism for determining the most important features (those closest to the tree root)."
   ]
  },
  {
   "cell_type": "code",
   "execution_count": 20,
   "metadata": {},
   "outputs": [
    {
     "name": "stdout",
     "output_type": "stream",
     "text": [
      "Feature 14: Race_Troll\n",
      "Feature 1:  Level_m\n"
     ]
    }
   ],
   "source": [
    "print 'Feature 14:', wow_data_dt.columns[5]\n",
    "print 'Feature 1: ', wow_data_dt.columns[1]"
   ]
  },
  {
   "cell_type": "code",
   "execution_count": 21,
   "metadata": {},
   "outputs": [
    {
     "name": "stdout",
     "output_type": "stream",
     "text": [
      "Precision of True  0.927823050058\n",
      "Precision of False 0.0\n",
      "Recall of True     1.0\n",
      "Recall of False    0.0\n",
      "F-1 Score          0.927823050058\n",
      "Confusion Matrix\n",
      "[[    0.   372.]\n",
      " [    0.  4782.]]\n"
     ]
    }
   ],
   "source": [
    "from pyspark.mllib.evaluation import MulticlassMetrics\n",
    "\n",
    "def getPredictionsLabels(model, test_data):\n",
    "    predictions = model.predict(test_data.map(lambda r: r.features))\n",
    "    return predictions.zip(test_data.map(lambda r: r.label))\n",
    "\n",
    "def printMetrics(predictions_and_labels):\n",
    "    metrics = MulticlassMetrics(predictions_and_labels)\n",
    "    print 'Precision of True ', metrics.precision(1)\n",
    "    print 'Precision of False', metrics.precision(0)\n",
    "    print 'Recall of True    ', metrics.recall(1)\n",
    "    print 'Recall of False   ', metrics.recall(0)\n",
    "    print 'F-1 Score         ', metrics.fMeasure()\n",
    "    print 'Confusion Matrix\\n', metrics.confusionMatrix().toArray()\n",
    "\n",
    "predictions_and_labels = getPredictionsLabels(model, testing_data)\n",
    "\n",
    "printMetrics(predictions_and_labels)"
   ]
  },
  {
   "cell_type": "markdown",
   "metadata": {
    "collapsed": true
   },
   "source": [
    "The overall accuracy, ie F-1 score, seems quite good, but one troubling issue is the discrepancy between the recall measures. The recall (aka sensitivity) for the Churn=True samples is high, while the recall for the Churn=False examples is relatively low. Perhaps the model's sensitivity bias toward Churn=True samples is due to a skewed distribution of the two types of samples.\n",
    "The confusion matrix Actual False Vs Predicted False also doesn't give result. Not a great confusion matrix to actually look at."
   ]
  },
  {
   "cell_type": "markdown",
   "metadata": {},
   "source": [
    "### Applying Random Forest Algorithm"
   ]
  },
  {
   "cell_type": "code",
   "execution_count": 22,
   "metadata": {
    "collapsed": true
   },
   "outputs": [],
   "source": [
    "wow_data_rf = wow_data.select(\"Level_l\",\"Level_m\",\"Level_h\",\"Race_Orc\",\"Race_Tauren\",\"Race_Troll\",\"Race_Undead\",\"Class_Warrior\",\"Class_Hunter\",\"Class_Rogue\",\n",
    "                              \"Class_Shaman\",\"Class_Warlock\",\"Class_Druid\",\"Class_Mage\",\"Class_Priest\",\"Churn\")"
   ]
  },
  {
   "cell_type": "code",
   "execution_count": 23,
   "metadata": {
    "collapsed": true
   },
   "outputs": [],
   "source": [
    "from pyspark.ml.classification import RandomForestClassifier as RF\n",
    "from pyspark.ml.feature import StringIndexer, VectorIndexer, VectorAssembler, SQLTransformer\n",
    "\n",
    "from pyspark.ml import Pipeline\n",
    "from pyspark.ml.evaluation import MulticlassClassificationEvaluator, BinaryClassificationEvaluator\n",
    "from pyspark.ml.tuning import CrossValidator, ParamGridBuilder\n",
    "import numpy as np\n",
    "import functools\n",
    "#from pyspark.ml.feature import OneHotEncoder\n",
    "\n",
    "cols_now = [\"Level_l\",\"Level_m\",\"Level_h\",\"Race_Orc\",\"Race_Tauren\",\"Race_Troll\",\"Race_Undead\",\"Class_Warrior\",\"Class_Hunter\",\"Class_Rogue\",\n",
    "                              \"Class_Shaman\",\"Class_Warlock\",\"Class_Druid\",\"Class_Mage\",\"Class_Priest\"]\n",
    "\n",
    "assembler_features = VectorAssembler(inputCols=cols_now, outputCol='features')\n",
    "labelIndexer = StringIndexer(inputCol=\"Churn\", outputCol='label').fit(wow_data_rf)\n",
    "tmp = [assembler_features, labelIndexer]\n",
    "pipeline = Pipeline(stages=tmp)"
   ]
  },
  {
   "cell_type": "code",
   "execution_count": 24,
   "metadata": {
    "collapsed": true
   },
   "outputs": [],
   "source": [
    "allData = pipeline.fit(wow_data_rf).transform(wow_data_rf)\n",
    "allData.cache()\n",
    "trainingData, testData = allData.randomSplit([0.70,0.30], seed=0)"
   ]
  },
  {
   "cell_type": "code",
   "execution_count": 25,
   "metadata": {
    "collapsed": true
   },
   "outputs": [],
   "source": [
    "rf = RF(labelCol='label', featuresCol='features',numTrees=150)\n",
    "fit = rf.fit(trainingData)\n",
    "transformed = fit.transform(testData)"
   ]
  },
  {
   "cell_type": "code",
   "execution_count": 26,
   "metadata": {},
   "outputs": [
    {
     "name": "stdout",
     "output_type": "stream",
     "text": [
      "+-----+--------------------+----------+\n",
      "|Churn|         probability|prediction|\n",
      "+-----+--------------------+----------+\n",
      "|    0|[0.79257114730507...|       0.0|\n",
      "|    0|[0.79257114730507...|       0.0|\n",
      "|    0|[0.79257114730507...|       0.0|\n",
      "|    0|[0.79257114730507...|       0.0|\n",
      "|    0|[0.79257114730507...|       0.0|\n",
      "+-----+--------------------+----------+\n",
      "only showing top 5 rows\n",
      "\n"
     ]
    }
   ],
   "source": [
    "transformed.select(\"Churn\", \"probability\", \"prediction\").show(5)"
   ]
  },
  {
   "cell_type": "code",
   "execution_count": 27,
   "metadata": {},
   "outputs": [
    {
     "name": "stdout",
     "output_type": "stream",
     "text": [
      "('Accuracy: ', 0.7337465418432121)\n"
     ]
    }
   ],
   "source": [
    "from pyspark.mllib.evaluation import BinaryClassificationMetrics as metric\n",
    "results = transformed.select(['probability', 'label'])\n",
    "\n",
    "results_collect = results.collect()\n",
    "results_list = [(float(i[0][0]), 1.0-float(i[1])) for i in results_collect]\n",
    "scoreAndLabels = sc.parallelize(results_list)\n",
    "\n",
    "metrics = metric(scoreAndLabels)\n",
    "print(\"Accuracy: \", metrics.areaUnderROC)"
   ]
  },
  {
   "cell_type": "code",
   "execution_count": 28,
   "metadata": {},
   "outputs": [
    {
     "data": {
      "image/png": "[encoded data removed]",
      "text/plain": [
       "<matplotlib.figure.Figure at 0x7f11aad1a510>"
      ]
     },
     "metadata": {},
     "output_type": "display_data"
    }
   ],
   "source": [
    "from sklearn.metrics import roc_curve, auc\n",
    "\n",
    "fpr = dict()\n",
    "tpr = dict()\n",
    "roc_auc = dict()\n",
    "\n",
    "y_test = [i[1] for i in results_list]\n",
    "y_score = [i[0] for i in results_list]\n",
    "\n",
    "fpr, tpr, _ = roc_curve(y_test, y_score)\n",
    "roc_auc = auc(fpr, tpr)\n",
    "\n",
    "%matplotlib inline\n",
    "plt.figure()\n",
    "plt.plot(fpr, tpr, label='ROC curve (area = %0.2f)' % roc_auc)\n",
    "plt.plot([0, 1], [0, 1], 'k--')\n",
    "plt.xlim([0.0, 1.0])\n",
    "plt.ylim([0.0, 1.05])\n",
    "plt.xlabel('False Positive Rate')\n",
    "plt.ylabel('True Positive Rate')\n",
    "plt.title('ROC Curve')\n",
    "plt.legend(loc=\"lower right\")\n",
    "plt.show()"
   ]
  },
  {
   "cell_type": "code",
   "execution_count": 29,
   "metadata": {},
   "outputs": [
    {
     "data": {
      "image/png": "[encoded data removed]",
      "text/plain": [
       "<matplotlib.figure.Figure at 0x7f11aad71690>"
      ]
     },
     "metadata": {},
     "output_type": "display_data"
    }
   ],
   "source": [
    "fig = plt.figure(figsize=(20, 18))\n",
    "ax = fig.add_subplot(111)\n",
    "\n",
    "df_f = pd.DataFrame(fit.featureImportances.values)\n",
    "df_f.rename(columns = {0:'importance'}, inplace = True)\n",
    "df_f[\"labels\"] = cols_now\n",
    "\n",
    "df_f.sort_values(\"importance\", inplace=True, ascending=False)\n",
    "\n",
    "index = np.arange(len(df_f['importance']))\n",
    "bar_width = 0.5\n",
    "rects = plt.barh(index , df_f[\"importance\"], bar_width, alpha=0.4, color='Red', label='Main')\n",
    "plt.yticks(index, df_f[\"labels\"])\n",
    "plt.title(\"Variable importance in Random Forest\")\n",
    "plt.show()"
   ]
  },
  {
   "cell_type": "code",
   "execution_count": 30,
   "metadata": {},
   "outputs": [
    {
     "data": {
      "text/html": [
       "<div>\n",
       "<style>\n",
       "    .dataframe thead tr:only-child th {\n",
       "        text-align: right;\n",
       "    }\n",
       "\n",
       "    .dataframe thead th {\n",
       "        text-align: left;\n",
       "    }\n",
       "\n",
       "    .dataframe tbody tr th {\n",
       "        vertical-align: top;\n",
       "    }\n",
       "</style>\n",
       "<table border=\"1\" class=\"dataframe\">\n",
       "  <thead>\n",
       "    <tr style=\"text-align: right;\">\n",
       "      <th></th>\n",
       "      <th>importance</th>\n",
       "      <th>labels</th>\n",
       "    </tr>\n",
       "  </thead>\n",
       "  <tbody>\n",
       "    <tr>\n",
       "      <th>0</th>\n",
       "      <td>0.456390</td>\n",
       "      <td>Level_l</td>\n",
       "    </tr>\n",
       "    <tr>\n",
       "      <th>2</th>\n",
       "      <td>0.376449</td>\n",
       "      <td>Level_h</td>\n",
       "    </tr>\n",
       "    <tr>\n",
       "      <th>1</th>\n",
       "      <td>0.066271</td>\n",
       "      <td>Level_m</td>\n",
       "    </tr>\n",
       "    <tr>\n",
       "      <th>7</th>\n",
       "      <td>0.023129</td>\n",
       "      <td>Class_Warrior</td>\n",
       "    </tr>\n",
       "    <tr>\n",
       "      <th>14</th>\n",
       "      <td>0.011660</td>\n",
       "      <td>Class_Priest</td>\n",
       "    </tr>\n",
       "  </tbody>\n",
       "</table>\n",
       "</div>"
      ],
      "text/plain": [
       "    importance         labels\n",
       "0     0.456390        Level_l\n",
       "2     0.376449        Level_h\n",
       "1     0.066271        Level_m\n",
       "7     0.023129  Class_Warrior\n",
       "14    0.011660   Class_Priest"
      ]
     },
     "execution_count": 30,
     "metadata": {},
     "output_type": "execute_result"
    }
   ],
   "source": [
    "df_f.head(5)"
   ]
  },
  {
   "cell_type": "markdown",
   "metadata": {
    "collapsed": true
   },
   "source": [
    "### Applying cross validation"
   ]
  },
  {
   "cell_type": "code",
   "execution_count": 31,
   "metadata": {
    "collapsed": true
   },
   "outputs": [],
   "source": [
    "wow_data_cv = wow_data.select(\"Level_l\",\"Level_m\",\"Level_h\",\"Race_Orc\",\"Race_Tauren\",\"Race_Troll\",\"Race_Undead\",\"Class_Warrior\",\"Class_Hunter\",\"Class_Rogue\",\n",
    "                              \"Class_Shaman\",\"Class_Warlock\",\"Class_Druid\",\"Class_Mage\",\"Class_Priest\",\"Churn\")"
   ]
  },
  {
   "cell_type": "markdown",
   "metadata": {},
   "source": [
    "Changing the data ratio"
   ]
  },
  {
   "cell_type": "code",
   "execution_count": 32,
   "metadata": {},
   "outputs": [
    {
     "data": {
      "text/html": [
       "<div>\n",
       "<style>\n",
       "    .dataframe thead tr:only-child th {\n",
       "        text-align: right;\n",
       "    }\n",
       "\n",
       "    .dataframe thead th {\n",
       "        text-align: left;\n",
       "    }\n",
       "\n",
       "    .dataframe tbody tr th {\n",
       "        vertical-align: top;\n",
       "    }\n",
       "</style>\n",
       "<table border=\"1\" class=\"dataframe\">\n",
       "  <thead>\n",
       "    <tr style=\"text-align: right;\">\n",
       "      <th></th>\n",
       "      <th>Churn</th>\n",
       "      <th>count</th>\n",
       "    </tr>\n",
       "  </thead>\n",
       "  <tbody>\n",
       "    <tr>\n",
       "      <th>0</th>\n",
       "      <td>1</td>\n",
       "      <td>2466</td>\n",
       "    </tr>\n",
       "    <tr>\n",
       "      <th>1</th>\n",
       "      <td>0</td>\n",
       "      <td>1906</td>\n",
       "    </tr>\n",
       "  </tbody>\n",
       "</table>\n",
       "</div>"
      ],
      "text/plain": [
       "   Churn  count\n",
       "0      1   2466\n",
       "1      0   1906"
      ]
     },
     "execution_count": 32,
     "metadata": {},
     "output_type": "execute_result"
    }
   ],
   "source": [
    "stratified_CV_data = wow_data_cv.sampleBy('Churn', fractions={0: 1.0, 1: .10}).cache()\n",
    "\n",
    "stratified_CV_data.groupby('Churn').count().toPandas()"
   ]
  },
  {
   "cell_type": "code",
   "execution_count": 33,
   "metadata": {
    "collapsed": true
   },
   "outputs": [],
   "source": [
    "training_data, testing_data = labelData(stratified_CV_data).randomSplit([0.8, 0.2])"
   ]
  },
  {
   "cell_type": "markdown",
   "metadata": {},
   "source": [
    "The ML package supports k-fold cross validation, which can be readily coupled with a parameter grid builder and an evaluator to construct a model selection workflow. Below, we'll use a transformation/estimation pipeline to train our models. The cross validator will use the ParamGridBuilder to iterate through the maxDepth parameter of the decision tree and evaluate the models using the F1-score, repeating 3 times per parameter value for reliable results."
   ]
  },
  {
   "cell_type": "code",
   "execution_count": 36,
   "metadata": {},
   "outputs": [
    {
     "name": "stdout",
     "output_type": "stream",
     "text": [
      "DecisionTreeClassificationModel (uid=DecisionTreeClassifier_4fc4b13413dfdaf81827) of depth 4 with 31 nodes\n"
     ]
    }
   ],
   "source": [
    "from pyspark.ml.linalg import Vectors \n",
    "from pyspark.ml import Pipeline\n",
    "from pyspark.ml.feature import StringIndexer, VectorIndexer\n",
    "from pyspark.ml.classification import DecisionTreeClassifier\n",
    "from pyspark.ml.tuning import CrossValidator, ParamGridBuilder\n",
    "from pyspark.ml.evaluation import MulticlassClassificationEvaluator\n",
    "\n",
    "def vectorizeData(data):\n",
    "    return data.rdd.map(lambda r: [r[-1], Vectors.dense(r[:-1])]).toDF(['label','features'])\n",
    "\n",
    "vectorized_CV_data = vectorizeData(stratified_CV_data)\n",
    "\n",
    "# Index labels, adding metadata to the label column\n",
    "labelIndexer = StringIndexer(inputCol='label',\n",
    "                             outputCol='indexedLabel').fit(vectorized_CV_data)\n",
    "\n",
    "# Automatically identify categorical features and index them\n",
    "featureIndexer = VectorIndexer(inputCol='features',\n",
    "                               outputCol='indexedFeatures',\n",
    "                               maxCategories=2).fit(vectorized_CV_data)\n",
    "\n",
    "# Train a DecisionTree model\n",
    "dTree = DecisionTreeClassifier(labelCol='indexedLabel', featuresCol='indexedFeatures')\n",
    "\n",
    "# Chain indexers and tree in a Pipeline\n",
    "pipeline = Pipeline(stages=[labelIndexer, featureIndexer, dTree])\n",
    "\n",
    "# Search through decision tree's maxDepth parameter for best model\n",
    "paramGrid = ParamGridBuilder().addGrid(dTree.maxDepth, [2,3,4,5,6,7]).build()\n",
    "\n",
    "# Set F-1 score as evaluation metric for best model selection\n",
    "evaluator = MulticlassClassificationEvaluator(labelCol='indexedLabel',\n",
    "                                              predictionCol='prediction', metricName='f1')    \n",
    "\n",
    "# Set up 3-fold cross validation\n",
    "crossval = CrossValidator(estimator=pipeline,\n",
    "                          estimatorParamMaps=paramGrid,\n",
    "                          evaluator=evaluator,\n",
    "                          numFolds=3)\n",
    "\n",
    "CV_model = crossval.fit(vectorized_CV_data)\n",
    "\n",
    "# Fetch best model\n",
    "tree_model = CV_model.bestModel.stages[2]\n",
    "print tree_model"
   ]
  },
  {
   "cell_type": "markdown",
   "metadata": {
    "collapsed": true
   },
   "source": [
    "We find that the best tree model produced using the cross-validation process is one with a depth of 4. So we can assume that our initial \"shallow\" tree of depth 2 in the previous section was not complex enough, while trees of depth higher than 4 overfit the data and will not perform well in practice."
   ]
  },
  {
   "cell_type": "code",
   "execution_count": null,
   "metadata": {
    "collapsed": true
   },
   "outputs": [],
   "source": []
  },
  {
   "cell_type": "code",
   "execution_count": null,
   "metadata": {
    "collapsed": true
   },
   "outputs": [],
   "source": []
  },
  {
   "cell_type": "markdown",
   "metadata": {},
   "source": [
    "The actual performance of the model can be determined using the final_test_data set which has not been used for any training or cross-validation activities. We'll transform the test set with the model pipeline, which will map the labels and features according to the same recipe. The evaluator will provide us with the F-1 score of the predictions, and then we'll print them along with their probabilities. Predictions on new, unlabeled customer activity data can also be made using the same pipeline CV_model.transform() function."
   ]
  },
  {
   "cell_type": "code",
   "execution_count": 37,
   "metadata": {
    "collapsed": true
   },
   "outputs": [],
   "source": [
    "final_test_data =  wow_data.select(\"Level_l\",\"Level_m\",\"Level_h\",\"Race_Orc\",\"Race_Tauren\",\"Race_Troll\",\"Race_Undead\",\"Class_Warrior\",\"Class_Hunter\",\"Class_Rogue\",\n",
    "                              \"Class_Shaman\",\"Class_Warlock\",\"Class_Druid\",\"Class_Mage\",\"Class_Priest\",\"Churn\")"
   ]
  },
  {
   "cell_type": "code",
   "execution_count": 38,
   "metadata": {},
   "outputs": [
    {
     "name": "stdout",
     "output_type": "stream",
     "text": [
      "f1 accuracy: 0.835710553138\n"
     ]
    },
    {
     "data": {
      "text/html": [
       "<div>\n",
       "<style>\n",
       "    .dataframe thead tr:only-child th {\n",
       "        text-align: right;\n",
       "    }\n",
       "\n",
       "    .dataframe thead th {\n",
       "        text-align: left;\n",
       "    }\n",
       "\n",
       "    .dataframe tbody tr th {\n",
       "        vertical-align: top;\n",
       "    }\n",
       "</style>\n",
       "<table border=\"1\" class=\"dataframe\">\n",
       "  <thead>\n",
       "    <tr style=\"text-align: right;\">\n",
       "      <th></th>\n",
       "      <th>indexedLabel</th>\n",
       "      <th>prediction</th>\n",
       "      <th>probability</th>\n",
       "    </tr>\n",
       "  </thead>\n",
       "  <tbody>\n",
       "    <tr>\n",
       "      <th>0</th>\n",
       "      <td>0.0</td>\n",
       "      <td>1.0</td>\n",
       "      <td>[0.317757009346, 0.682242990654]</td>\n",
       "    </tr>\n",
       "    <tr>\n",
       "      <th>1</th>\n",
       "      <td>0.0</td>\n",
       "      <td>1.0</td>\n",
       "      <td>[0.224890829694, 0.775109170306]</td>\n",
       "    </tr>\n",
       "    <tr>\n",
       "      <th>2</th>\n",
       "      <td>0.0</td>\n",
       "      <td>1.0</td>\n",
       "      <td>[0.26, 0.74]</td>\n",
       "    </tr>\n",
       "    <tr>\n",
       "      <th>3</th>\n",
       "      <td>0.0</td>\n",
       "      <td>0.0</td>\n",
       "      <td>[0.785912882298, 0.214087117702]</td>\n",
       "    </tr>\n",
       "    <tr>\n",
       "      <th>4</th>\n",
       "      <td>0.0</td>\n",
       "      <td>0.0</td>\n",
       "      <td>[0.785912882298, 0.214087117702]</td>\n",
       "    </tr>\n",
       "  </tbody>\n",
       "</table>\n",
       "</div>"
      ],
      "text/plain": [
       "   indexedLabel  prediction                       probability\n",
       "0           0.0         1.0  [0.317757009346, 0.682242990654]\n",
       "1           0.0         1.0  [0.224890829694, 0.775109170306]\n",
       "2           0.0         1.0                      [0.26, 0.74]\n",
       "3           0.0         0.0  [0.785912882298, 0.214087117702]\n",
       "4           0.0         0.0  [0.785912882298, 0.214087117702]"
      ]
     },
     "execution_count": 38,
     "metadata": {},
     "output_type": "execute_result"
    }
   ],
   "source": [
    "\n",
    "vectorized_test_data = vectorizeData(final_test_data)\n",
    "\n",
    "transformed_data = CV_model.transform(vectorized_test_data)\n",
    "print evaluator.getMetricName(), 'accuracy:', evaluator.evaluate(transformed_data)\n",
    "\n",
    "predictions = transformed_data.select('indexedLabel', 'prediction', 'probability')\n",
    "predictions.toPandas().head()"
   ]
  },
  {
   "cell_type": "markdown",
   "metadata": {},
   "source": [
    "The prediction probabilities can be very useful in ranking customers by their likeliness to defect. This way, the limited resources available to the business for retention can be focused on the appropriate customers."
   ]
  },
  {
   "cell_type": "code",
   "execution_count": null,
   "metadata": {
    "collapsed": true
   },
   "outputs": [],
   "source": []
  },
  {
   "cell_type": "code",
   "execution_count": null,
   "metadata": {
    "collapsed": true
   },
   "outputs": [],
   "source": []
  }
 ],
 "metadata": {
  "kernelspec": {
   "display_name": "Python 3",
   "language": "python",
   "name": "python3"
  },
  "language_info": {
   "codemirror_mode": {
    "name": "ipython",
    "version": 3
   },
   "file_extension": ".py",
   "mimetype": "text/x-python",
   "name": "python",
   "nbconvert_exporter": "python",
   "pygments_lexer": "ipython3",
   "version": "3.6.3"
  }
 },
 "nbformat": 4,
 "nbformat_minor": 2
}
