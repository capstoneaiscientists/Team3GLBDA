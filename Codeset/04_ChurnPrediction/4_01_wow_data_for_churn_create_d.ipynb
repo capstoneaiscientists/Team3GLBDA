{
 "cells": [
  {
   "cell_type": "code",
   "execution_count": 1,
   "metadata": {
    "collapsed": true
   },
   "outputs": [],
   "source": [
    "from pyspark import SparkContext\n",
    "from pyspark.sql import SQLContext\n",
    "sc = SparkContext.getOrCreate()\n",
    "spark = SQLContext(sc)\n",
    "sqlContext = SQLContext(sc)"
   ]
  },
  {
   "cell_type": "code",
   "execution_count": 2,
   "metadata": {
    "collapsed": true
   },
   "outputs": [],
   "source": [
    "wow_data = sqlContext.read.load('file:////home/deepannrr3037/newlogs.csv/', \n",
    "                          delimiter=',',\n",
    "                          format='com.databricks.spark.csv', \n",
    "                          header='true', \n",
    "                          inferSchema='true')"
   ]
  },
  {
   "cell_type": "code",
   "execution_count": 3,
   "metadata": {},
   "outputs": [
    {
     "name": "stdout",
     "output_type": "stream",
     "text": [
      "root\n",
      " |-- _c0: integer (nullable = true)\n",
      " |-- QueryTime: string (nullable = true)\n",
      " |-- QuerySeq: integer (nullable = true)\n",
      " |-- AvatarID: integer (nullable = true)\n",
      " |-- Guild: string (nullable = true)\n",
      " |-- Level: integer (nullable = true)\n",
      " |-- Race: string (nullable = true)\n",
      " |-- Class: string (nullable = true)\n",
      " |-- Zone: string (nullable = true)\n",
      "\n"
     ]
    }
   ],
   "source": [
    "wow_data.printSchema()"
   ]
  },
  {
   "cell_type": "code",
   "execution_count": 4,
   "metadata": {
    "collapsed": true
   },
   "outputs": [],
   "source": [
    "from pyspark.sql.functions import unix_timestamp\n",
    "wow_data = wow_data.withColumn('QuertTime_TS',unix_timestamp(wow_data['QueryTime'], \"yy/dd/MM hh:mm:ss\").cast(\"timestamp\"))\n",
    "wow_data = wow_data.withColumn('QuertTime_D',wow_data['QuertTime_TS'].cast(\"date\"))"
   ]
  },
  {
   "cell_type": "code",
   "execution_count": 5,
   "metadata": {
    "collapsed": true
   },
   "outputs": [],
   "source": [
    "wow_data.registerTempTable( \"wow_data\" )"
   ]
  },
  {
   "cell_type": "code",
   "execution_count": 6,
   "metadata": {
    "collapsed": true
   },
   "outputs": [],
   "source": [
    "wow_data = sqlContext.sql( \"\"\"select AvatarID,case when Guild = ' ' then 0 else 1 end as Guild, \n",
    "                          case when Level between 1 and 23 then 2 \n",
    "                               when Level between 24 and 47 then 3 else 4 end as Level,Race,\n",
    "                          case when Race = ' Orc' then 1 else 0 end as Race_Orc,\n",
    "                          case when Race = ' Tauren' then 1 else 0 end as Race_Tauren,\n",
    "                          case when Race = ' Troll' then 1 else 0 end as Race_Troll,\n",
    "                          case when Race = ' Undead' then 1 else 0 end as Race_Undead,\n",
    "                          case when Class = ' Warrior' then 1 else 0 end as Class_Warrior,\n",
    "                          case when Class = ' Hunter' then 1 else 0 end as Class_Hunter,\n",
    "                          case when Class = ' Rogue' then 1 else 0 end as Class_Rogue,\n",
    "                          case when Class = ' Shaman' then 1 else 0 end as Class_Shaman,\n",
    "                          case when Class = ' Warlock' then 1 else 0 end as Class_Warlock,\n",
    "                          case when Class = ' Druid' then 1 else 0 end as Class_Druid,\n",
    "                          case when Class = ' Mage' then 1 else 0 end as Class_Mage,\n",
    "                          case when Class = ' Priest' then 1 else 0 end as Class_Priest,\n",
    "                          QuertTime_D as LoginTime                         \n",
    "from wow_data\"\"\" )"
   ]
  },
  {
   "cell_type": "code",
   "execution_count": 7,
   "metadata": {
    "collapsed": true
   },
   "outputs": [],
   "source": [
    "from pyspark.sql.functions import month, year, dayofmonth,concat"
   ]
  },
  {
   "cell_type": "code",
   "execution_count": 8,
   "metadata": {
    "collapsed": true
   },
   "outputs": [],
   "source": [
    "wow_data = wow_data.withColumn( 'LoginTime_i', (concat(dayofmonth(wow_data.LoginTime),\n",
    "                                                   month( wow_data.LoginTime ),year( wow_data.LoginTime ))).cast(\"integer\"))"
   ]
  },
  {
   "cell_type": "code",
   "execution_count": 9,
   "metadata": {
    "collapsed": true
   },
   "outputs": [],
   "source": [
    "wow_data_Login = wow_data.select('AvatarID','LoginTime')"
   ]
  },
  {
   "cell_type": "code",
   "execution_count": 10,
   "metadata": {
    "collapsed": true
   },
   "outputs": [],
   "source": [
    "wow_data_Login.registerTempTable( \"wow_data_Login\" )"
   ]
  },
  {
   "cell_type": "code",
   "execution_count": 11,
   "metadata": {
    "collapsed": true
   },
   "outputs": [],
   "source": [
    "wow_data_Login =  sqlContext.sql( \"\"\"select AvatarID,LoginTime,count(*) as Loginperday from wow_data_Login group by AvatarID,LoginTime\"\"\")"
   ]
  },
  {
   "cell_type": "code",
   "execution_count": 12,
   "metadata": {},
   "outputs": [
    {
     "data": {
      "text/plain": [
       "447127"
      ]
     },
     "execution_count": 12,
     "metadata": {},
     "output_type": "execute_result"
    }
   ],
   "source": [
    "wow_data_Login.count()"
   ]
  },
  {
   "cell_type": "code",
   "execution_count": 13,
   "metadata": {
    "collapsed": true
   },
   "outputs": [],
   "source": [
    "wow_data.registerTempTable( \"wow_data\" )"
   ]
  },
  {
   "cell_type": "code",
   "execution_count": 14,
   "metadata": {
    "collapsed": true
   },
   "outputs": [],
   "source": [
    "wow_derived = sqlContext.sql( \"\"\"select AvatarID,max(LoginTime) as Last_login_dt,min(LoginTime) as first_login_dt,datediff(max(LoginTime),min(LoginTime)) as total_days_actv,count(distinct(LoginTime)) as actual_days_actv,\n",
    "count(LoginTime)as Login_count from wow_data group by AvatarID\"\"\")"
   ]
  },
  {
   "cell_type": "code",
   "execution_count": 15,
   "metadata": {},
   "outputs": [
    {
     "data": {
      "text/plain": [
       "26165"
      ]
     },
     "execution_count": 15,
     "metadata": {},
     "output_type": "execute_result"
    }
   ],
   "source": [
    "wow_derived.count()"
   ]
  },
  {
   "cell_type": "code",
   "execution_count": 16,
   "metadata": {
    "collapsed": true
   },
   "outputs": [],
   "source": [
    "wow_derived.registerTempTable( \"wow_derived\" )"
   ]
  },
  {
   "cell_type": "code",
   "execution_count": 17,
   "metadata": {
    "collapsed": true
   },
   "outputs": [],
   "source": [
    "wow_data_Login.registerTempTable( \"wow_data_Login\" )"
   ]
  },
  {
   "cell_type": "markdown",
   "metadata": {},
   "source": [
    "Filtering the data, so as to give labels of Churn or not  churn"
   ]
  },
  {
   "cell_type": "code",
   "execution_count": 18,
   "metadata": {
    "collapsed": true
   },
   "outputs": [],
   "source": [
    "wow_derived = wow_derived.where((wow_derived.total_days_actv > 0) | (wow_derived.Last_login_dt > '2011-11-30' ))"
   ]
  },
  {
   "cell_type": "code",
   "execution_count": 19,
   "metadata": {
    "collapsed": true
   },
   "outputs": [],
   "source": [
    "wow_derived.registerTempTable( \"wow_derived_1\" )"
   ]
  },
  {
   "cell_type": "code",
   "execution_count": 20,
   "metadata": {
    "collapsed": true
   },
   "outputs": [],
   "source": [
    "df = sqlContext.sql(\"\"\"select d.AvatarID,LoginTime,Last_login_dt,datediff(Last_login_dt,LoginTime) as Login_rt_ld,Loginperday,total_days_actv,actual_days_actv,Login_count \n",
    "as Total_login from wow_data_Login l, wow_derived_1 d where l.AvatarID = d.AvatarID \n",
    " order by d.AvatarID,LoginTime desc\"\"\")"
   ]
  },
  {
   "cell_type": "code",
   "execution_count": 21,
   "metadata": {},
   "outputs": [
    {
     "data": {
      "text/plain": [
       "436896"
      ]
     },
     "execution_count": 21,
     "metadata": {},
     "output_type": "execute_result"
    }
   ],
   "source": [
    "df.count()"
   ]
  },
  {
   "cell_type": "code",
   "execution_count": 22,
   "metadata": {},
   "outputs": [
    {
     "name": "stdout",
     "output_type": "stream",
     "text": [
      "+--------+----------+-------------+-----------+-----------+---------------+----------------+-----------+\n",
      "|AvatarID| LoginTime|Last_login_dt|Login_rt_ld|Loginperday|total_days_actv|actual_days_actv|Total_login|\n",
      "+--------+----------+-------------+-----------+-----------+---------------+----------------+-----------+\n",
      "|       0|2012-05-31|   2012-05-31|          0|          1|           4017|               4|         76|\n",
      "|       0|2001-06-20|   2012-05-31|       3998|          2|           4017|               4|         76|\n",
      "|       0|2001-06-07|   2012-05-31|       4011|          4|           4017|               4|         76|\n",
      "|       0|2001-06-01|   2012-05-31|       4017|         69|           4017|               4|         76|\n",
      "|       1|2012-05-31|   2012-05-31|          0|          1|           4017|               3|         19|\n",
      "|       1|2001-06-07|   2012-05-31|       4011|          1|           4017|               3|         19|\n",
      "|       1|2001-06-01|   2012-05-31|       4017|         17|           4017|               3|         19|\n",
      "|       2|2012-05-31|   2012-05-31|          0|          1|           4017|              24|        191|\n",
      "|       2|2002-06-28|   2012-05-31|       3625|          1|           4017|              24|        191|\n",
      "|       2|2002-06-20|   2012-05-31|       3633|          1|           4017|              24|        191|\n",
      "|       2|2002-06-17|   2012-05-31|       3636|         13|           4017|              24|        191|\n",
      "|       2|2002-06-16|   2012-05-31|       3637|          4|           4017|              24|        191|\n",
      "|       2|2002-06-15|   2012-05-31|       3638|          4|           4017|              24|        191|\n",
      "|       2|2002-06-14|   2012-05-31|       3639|          3|           4017|              24|        191|\n",
      "|       2|2002-06-13|   2012-05-31|       3640|          2|           4017|              24|        191|\n",
      "|       2|2002-06-11|   2012-05-31|       3642|          8|           4017|              24|        191|\n",
      "|       2|2002-06-10|   2012-05-31|       3643|          1|           4017|              24|        191|\n",
      "|       2|2001-06-19|   2012-05-31|       3999|          7|           4017|              24|        191|\n",
      "|       2|2001-06-18|   2012-05-31|       4000|          9|           4017|              24|        191|\n",
      "|       2|2001-06-17|   2012-05-31|       4001|          1|           4017|              24|        191|\n",
      "+--------+----------+-------------+-----------+-----------+---------------+----------------+-----------+\n",
      "only showing top 20 rows\n",
      "\n"
     ]
    }
   ],
   "source": [
    "df.show()"
   ]
  },
  {
   "cell_type": "code",
   "execution_count": 23,
   "metadata": {
    "collapsed": true
   },
   "outputs": [],
   "source": [
    "from pyspark.sql.functions import datediff,to_date,lit\n",
    "df = df.where(datediff(to_date(lit('2012-05-31')),df.Last_login_dt) <= 365)"
   ]
  },
  {
   "cell_type": "code",
   "execution_count": 24,
   "metadata": {},
   "outputs": [
    {
     "data": {
      "text/plain": [
       "267185"
      ]
     },
     "execution_count": 24,
     "metadata": {},
     "output_type": "execute_result"
    }
   ],
   "source": [
    "df.count()"
   ]
  },
  {
   "cell_type": "code",
   "execution_count": 25,
   "metadata": {
    "collapsed": true
   },
   "outputs": [],
   "source": [
    "from pyspark.sql.functions import col\n",
    "\n",
    "df = df.withColumn(\"Active_Ratio_1\",(df.actual_days_actv/df.total_days_actv)*100)"
   ]
  },
  {
   "cell_type": "code",
   "execution_count": 26,
   "metadata": {},
   "outputs": [
    {
     "name": "stdout",
     "output_type": "stream",
     "text": [
      "+--------+----------+-------------+-----------+-----------+---------------+----------------+-----------+-------------------+\n",
      "|AvatarID| LoginTime|Last_login_dt|Login_rt_ld|Loginperday|total_days_actv|actual_days_actv|Total_login|     Active_Ratio_1|\n",
      "+--------+----------+-------------+-----------+-----------+---------------+----------------+-----------+-------------------+\n",
      "|       0|2012-05-31|   2012-05-31|          0|          1|           4017|               4|         76|0.09957679860592482|\n",
      "|       0|2001-06-20|   2012-05-31|       3998|          2|           4017|               4|         76|0.09957679860592482|\n",
      "|       0|2001-06-07|   2012-05-31|       4011|          4|           4017|               4|         76|0.09957679860592482|\n",
      "|       0|2001-06-01|   2012-05-31|       4017|         69|           4017|               4|         76|0.09957679860592482|\n",
      "|       1|2012-05-31|   2012-05-31|          0|          1|           4017|               3|         19|0.07468259895444362|\n",
      "|       1|2001-06-07|   2012-05-31|       4011|          1|           4017|               3|         19|0.07468259895444362|\n",
      "|       1|2001-06-01|   2012-05-31|       4017|         17|           4017|               3|         19|0.07468259895444362|\n",
      "|       2|2012-05-31|   2012-05-31|          0|          1|           4017|              24|        191|  0.597460791635549|\n",
      "|       2|2002-06-28|   2012-05-31|       3625|          1|           4017|              24|        191|  0.597460791635549|\n",
      "|       2|2002-06-20|   2012-05-31|       3633|          1|           4017|              24|        191|  0.597460791635549|\n",
      "|       2|2002-06-17|   2012-05-31|       3636|         13|           4017|              24|        191|  0.597460791635549|\n",
      "|       2|2002-06-16|   2012-05-31|       3637|          4|           4017|              24|        191|  0.597460791635549|\n",
      "|       2|2002-06-15|   2012-05-31|       3638|          4|           4017|              24|        191|  0.597460791635549|\n",
      "|       2|2002-06-14|   2012-05-31|       3639|          3|           4017|              24|        191|  0.597460791635549|\n",
      "|       2|2002-06-13|   2012-05-31|       3640|          2|           4017|              24|        191|  0.597460791635549|\n",
      "|       2|2002-06-11|   2012-05-31|       3642|          8|           4017|              24|        191|  0.597460791635549|\n",
      "|       2|2002-06-10|   2012-05-31|       3643|          1|           4017|              24|        191|  0.597460791635549|\n",
      "|       2|2001-06-19|   2012-05-31|       3999|          7|           4017|              24|        191|  0.597460791635549|\n",
      "|       2|2001-06-18|   2012-05-31|       4000|          9|           4017|              24|        191|  0.597460791635549|\n",
      "|       2|2001-06-17|   2012-05-31|       4001|          1|           4017|              24|        191|  0.597460791635549|\n",
      "+--------+----------+-------------+-----------+-----------+---------------+----------------+-----------+-------------------+\n",
      "only showing top 20 rows\n",
      "\n"
     ]
    }
   ],
   "source": [
    "df.show()"
   ]
  },
  {
   "cell_type": "code",
   "execution_count": 27,
   "metadata": {
    "collapsed": true
   },
   "outputs": [],
   "source": [
    "df = df.where((df.Active_Ratio_1) > 40.0).select(\"AvatarID\").distinct()"
   ]
  },
  {
   "cell_type": "code",
   "execution_count": 28,
   "metadata": {
    "collapsed": true
   },
   "outputs": [],
   "source": [
    "df = df.withColumn('Churn', lit(0))"
   ]
  },
  {
   "cell_type": "code",
   "execution_count": 29,
   "metadata": {},
   "outputs": [
    {
     "name": "stdout",
     "output_type": "stream",
     "text": [
      "+--------+-----+\n",
      "|AvatarID|Churn|\n",
      "+--------+-----+\n",
      "|   22097|    0|\n",
      "|   22346|    0|\n",
      "|   22373|    0|\n",
      "|   22521|    0|\n",
      "|   23015|    0|\n",
      "|   23571|    0|\n",
      "|   24347|    0|\n",
      "|   25462|    0|\n",
      "|   25591|    0|\n",
      "|   26087|    0|\n",
      "|   22004|    0|\n",
      "|   22021|    0|\n",
      "|   22188|    0|\n",
      "|   22412|    0|\n",
      "|   22555|    0|\n",
      "|   22970|    0|\n",
      "|   23136|    0|\n",
      "|   23455|    0|\n",
      "|   23523|    0|\n",
      "|   23607|    0|\n",
      "+--------+-----+\n",
      "only showing top 20 rows\n",
      "\n"
     ]
    }
   ],
   "source": [
    "df.show()"
   ]
  },
  {
   "cell_type": "code",
   "execution_count": 30,
   "metadata": {
    "collapsed": true
   },
   "outputs": [],
   "source": [
    "df.registerTempTable( \"df\" )"
   ]
  },
  {
   "cell_type": "code",
   "execution_count": 31,
   "metadata": {
    "collapsed": true
   },
   "outputs": [],
   "source": [
    "df_2 =sqlContext.sql(\"\"\"select l.AvatarID,max(Total_days_actv) as Total_days_actv,max(Actual_days_actv) as Actual_days_actv,max(Login_count) as Total_login,\n",
    "                                       case when max(Level) = 2 then 1 else 0 end as Level_l ,\n",
    "                                       case when max(Level) = 3 then 1 else 0 end as Level_m ,\n",
    "                                       case when max(Level) = 4 then 1 else 0 end as Level_h ,\n",
    "                                       max(Race_Orc) as Race_Orc,\n",
    "                                       max(Race_Tauren) as Race_Tauren,\n",
    "                                       max(Race_Troll) as Race_Troll,\n",
    "                                       max(Race_Undead) as Race_Undead,\n",
    "                                       max(Class_Warrior) as Class_Warrior,\n",
    "                                       max(Class_Hunter) as Class_Hunter,\n",
    "                                       max(Class_Rogue) as Class_Rogue,\n",
    "                                       max(Class_Shaman) as Class_Shaman,\n",
    "                                       max(Class_Warlock) as Class_Warlock,\n",
    "                                       max(Class_Druid) as Class_Druid,\n",
    "                                       max(Class_Mage) as Class_Mage,\n",
    "                                       max(Class_Priest) as Class_Priest                                       \n",
    "                                       from wow_data l, wow_derived d where\n",
    "                                       l.AvatarID = d.AvatarID\n",
    "                                       group by l.AvatarID\"\"\")"
   ]
  },
  {
   "cell_type": "code",
   "execution_count": 32,
   "metadata": {
    "collapsed": true
   },
   "outputs": [],
   "source": [
    "df_2.registerTempTable( \"df_2\" )"
   ]
  },
  {
   "cell_type": "code",
   "execution_count": 33,
   "metadata": {},
   "outputs": [
    {
     "data": {
      "text/plain": [
       "9701530"
      ]
     },
     "execution_count": 33,
     "metadata": {},
     "output_type": "execute_result"
    }
   ],
   "source": [
    "wow_data.count()"
   ]
  },
  {
   "cell_type": "code",
   "execution_count": 34,
   "metadata": {},
   "outputs": [
    {
     "data": {
      "text/plain": [
       "15934"
      ]
     },
     "execution_count": 34,
     "metadata": {},
     "output_type": "execute_result"
    }
   ],
   "source": [
    "wow_derived.count()"
   ]
  },
  {
   "cell_type": "code",
   "execution_count": 35,
   "metadata": {},
   "outputs": [
    {
     "data": {
      "text/plain": [
       "26165"
      ]
     },
     "execution_count": 35,
     "metadata": {},
     "output_type": "execute_result"
    }
   ],
   "source": [
    "df_2.select(\"AvatarID\").distinct().count()"
   ]
  },
  {
   "cell_type": "code",
   "execution_count": 36,
   "metadata": {},
   "outputs": [
    {
     "name": "stdout",
     "output_type": "stream",
     "text": [
      "+--------+---------------+----------------+-----------+-------+-------+-------+--------+-----------+----------+-----------+-------------+------------+-----------+------------+-------------+-----------+----------+------------+\n",
      "|AvatarID|Total_days_actv|Actual_days_actv|Total_login|Level_l|Level_m|Level_h|Race_Orc|Race_Tauren|Race_Troll|Race_Undead|Class_Warrior|Class_Hunter|Class_Rogue|Class_Shaman|Class_Warlock|Class_Druid|Class_Mage|Class_Priest|\n",
      "+--------+---------------+----------------+-----------+-------+-------+-------+--------+-----------+----------+-----------+-------------+------------+-----------+------------+-------------+-----------+----------+------------+\n",
      "|     148|            748|              66|       1202|      0|      0|      1|       0|          1|         0|          0|            0|           0|          0|           1|            0|          0|         0|           0|\n",
      "|     463|           3307|             158|       2412|      0|      0|      1|       0|          0|         0|          1|            0|           0|          0|           0|            0|          0|         0|           1|\n",
      "|     471|             12|              11|        253|      0|      0|      1|       1|          0|         0|          0|            1|           0|          0|           0|            0|          0|         0|           0|\n",
      "|     496|              0|               1|          2|      1|      0|      0|       1|          0|         0|          0|            1|           0|          0|           0|            0|          0|         0|           0|\n",
      "|     833|              0|               1|          1|      1|      0|      0|       1|          0|         0|          0|            1|           0|          0|           0|            0|          0|         0|           0|\n",
      "|    1088|           3297|              70|       1527|      0|      0|      1|       0|          1|         0|          0|            1|           0|          0|           0|            0|          0|         0|           0|\n",
      "|    1238|           2576|              93|       1018|      0|      0|      1|       0|          0|         0|          1|            0|           0|          0|           0|            0|          0|         0|           1|\n",
      "|    1342|           3676|              76|        658|      0|      1|      0|       0|          0|         1|          0|            0|           0|          0|           1|            0|          0|         0|           0|\n",
      "|    1580|           2581|             103|       1232|      0|      0|      1|       1|          0|         0|          0|            0|           1|          0|           0|            0|          0|         0|           0|\n",
      "|    1591|            741|              49|       1598|      0|      0|      1|       1|          0|         0|          0|            0|           1|          0|           0|            0|          0|         0|           0|\n",
      "|    1645|           3677|              76|        482|      0|      0|      1|       0|          1|         0|          0|            1|           0|          0|           0|            0|          0|         0|           0|\n",
      "|    1829|              0|               1|          1|      1|      0|      0|       0|          0|         0|          1|            0|           0|          1|           0|            0|          0|         0|           0|\n",
      "|    1959|           3679|             134|       1723|      0|      0|      1|       0|          0|         0|          1|            0|           0|          0|           0|            1|          0|         0|           0|\n",
      "|    2122|           3664|              67|         95|      1|      0|      0|       0|          1|         0|          0|            0|           0|          0|           1|            0|          0|         0|           0|\n",
      "|    2142|              0|               1|         10|      1|      0|      0|       1|          0|         0|          0|            1|           0|          0|           0|            0|          0|         0|           0|\n",
      "|    2366|           3671|              49|        232|      1|      0|      0|       1|          0|         0|          0|            1|           0|          0|           0|            0|          0|         0|           0|\n",
      "|    2659|           1464|              20|        123|      1|      0|      0|       0|          0|         1|          0|            0|           0|          0|           1|            0|          0|         0|           0|\n",
      "|    2866|           3674|             248|       5773|      0|      0|      1|       0|          0|         0|          1|            0|           0|          0|           0|            0|          0|         0|           1|\n",
      "|    3175|              0|               1|          2|      1|      0|      0|       0|          1|         0|          0|            0|           0|          0|           1|            0|          0|         0|           0|\n",
      "|    3749|              0|               1|          2|      1|      0|      0|       1|          0|         0|          0|            1|           0|          0|           0|            0|          0|         0|           0|\n",
      "+--------+---------------+----------------+-----------+-------+-------+-------+--------+-----------+----------+-----------+-------------+------------+-----------+------------+-------------+-----------+----------+------------+\n",
      "only showing top 20 rows\n",
      "\n"
     ]
    }
   ],
   "source": [
    "df_2.show()"
   ]
  },
  {
   "cell_type": "code",
   "execution_count": 37,
   "metadata": {
    "collapsed": true
   },
   "outputs": [],
   "source": [
    "df_7 =sqlContext.sql(\"\"\"select a.AvatarID,Total_days_actv,Actual_days_actv,(Actual_days_actv/Total_days_actv)*100 as Active_Ratio,Total_login,Level_l,Level_m,Level_h,Race_Orc,Race_Tauren,Race_Troll,Race_Undead,\n",
    "Class_Warrior,Class_Hunter,Class_Rogue,Class_Shaman,Class_Warlock,Class_Druid,Class_Mage,Class_Priest,\n",
    "case when b.Churn = 0 then 0 else 1 end as Churn\n",
    "from df_2 a LEFT OUTER JOIN df b on a.AvatarID = b.AvatarID\"\"\") "
   ]
  },
  {
   "cell_type": "code",
   "execution_count": 38,
   "metadata": {},
   "outputs": [
    {
     "data": {
      "text/plain": [
       "[Row(AvatarID=148, Total_days_actv=748, Actual_days_actv=66, Active_Ratio=8.823529411764707, Total_login=1202, Level_l=0, Level_m=0, Level_h=1, Race_Orc=0, Race_Tauren=1, Race_Troll=0, Race_Undead=0, Class_Warrior=0, Class_Hunter=0, Class_Rogue=0, Class_Shaman=1, Class_Warlock=0, Class_Druid=0, Class_Mage=0, Class_Priest=0, Churn=1),\n",
       " Row(AvatarID=463, Total_days_actv=3307, Actual_days_actv=158, Active_Ratio=4.7777441790142126, Total_login=2412, Level_l=0, Level_m=0, Level_h=1, Race_Orc=0, Race_Tauren=0, Race_Troll=0, Race_Undead=1, Class_Warrior=0, Class_Hunter=0, Class_Rogue=0, Class_Shaman=0, Class_Warlock=0, Class_Druid=0, Class_Mage=0, Class_Priest=1, Churn=1),\n",
       " Row(AvatarID=471, Total_days_actv=12, Actual_days_actv=11, Active_Ratio=91.66666666666666, Total_login=253, Level_l=0, Level_m=0, Level_h=1, Race_Orc=1, Race_Tauren=0, Race_Troll=0, Race_Undead=0, Class_Warrior=1, Class_Hunter=0, Class_Rogue=0, Class_Shaman=0, Class_Warlock=0, Class_Druid=0, Class_Mage=0, Class_Priest=0, Churn=1),\n",
       " Row(AvatarID=496, Total_days_actv=0, Actual_days_actv=1, Active_Ratio=None, Total_login=2, Level_l=1, Level_m=0, Level_h=0, Race_Orc=1, Race_Tauren=0, Race_Troll=0, Race_Undead=0, Class_Warrior=1, Class_Hunter=0, Class_Rogue=0, Class_Shaman=0, Class_Warlock=0, Class_Druid=0, Class_Mage=0, Class_Priest=0, Churn=1),\n",
       " Row(AvatarID=833, Total_days_actv=0, Actual_days_actv=1, Active_Ratio=None, Total_login=1, Level_l=1, Level_m=0, Level_h=0, Race_Orc=1, Race_Tauren=0, Race_Troll=0, Race_Undead=0, Class_Warrior=1, Class_Hunter=0, Class_Rogue=0, Class_Shaman=0, Class_Warlock=0, Class_Druid=0, Class_Mage=0, Class_Priest=0, Churn=1)]"
      ]
     },
     "execution_count": 38,
     "metadata": {},
     "output_type": "execute_result"
    }
   ],
   "source": [
    "df_7.where(df_7.Churn != 0 ).take(5)"
   ]
  },
  {
   "cell_type": "code",
   "execution_count": 39,
   "metadata": {},
   "outputs": [
    {
     "data": {
      "text/plain": [
       "26165"
      ]
     },
     "execution_count": 39,
     "metadata": {},
     "output_type": "execute_result"
    }
   ],
   "source": [
    "df_7.count()"
   ]
  },
  {
   "cell_type": "code",
   "execution_count": 40,
   "metadata": {
    "collapsed": true
   },
   "outputs": [],
   "source": [
    "import pandas as pd\n",
    "df_8 = pd.DataFrame(df_7.take(26165), columns=df_7.columns)"
   ]
  },
  {
   "cell_type": "code",
   "execution_count": 41,
   "metadata": {
    "collapsed": true
   },
   "outputs": [],
   "source": [
    "df_8.to_csv(\"wow_data_wtLabel_C.csv\", sep=',', encoding='utf-8')"
   ]
  },
  {
   "cell_type": "code",
   "execution_count": null,
   "metadata": {
    "collapsed": true
   },
   "outputs": [],
   "source": []
  },
  {
   "cell_type": "code",
   "execution_count": null,
   "metadata": {
    "collapsed": true
   },
   "outputs": [],
   "source": []
  },
  {
   "cell_type": "code",
   "execution_count": null,
   "metadata": {
    "collapsed": true
   },
   "outputs": [],
   "source": []
  }
 ],
 "metadata": {
  "kernelspec": {
   "display_name": "Python 3",
   "language": "python",
   "name": "python3"
  },
  "language_info": {
   "codemirror_mode": {
    "name": "ipython",
    "version": 3
   },
   "file_extension": ".py",
   "mimetype": "text/x-python",
   "name": "python",
   "nbconvert_exporter": "python",
   "pygments_lexer": "ipython3",
   "version": "3.6.3"
  }
 },
 "nbformat": 4,
 "nbformat_minor": 2
}
