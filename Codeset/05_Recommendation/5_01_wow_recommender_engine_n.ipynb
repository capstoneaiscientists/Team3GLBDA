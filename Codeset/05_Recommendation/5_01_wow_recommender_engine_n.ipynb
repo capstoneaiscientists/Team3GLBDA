{
 "cells": [
  {
   "cell_type": "markdown",
   "metadata": {},
   "source": [
    "#                            Recommender System"
   ]
  },
  {
   "cell_type": "markdown",
   "metadata": {},
   "source": [
    "### The system below recommends Race Class combinations, New Guilds for users already playing in Guilds and Guilds for new Users or Users not playing in Guilds using Collaborative filtering"
   ]
  },
  {
   "cell_type": "code",
   "execution_count": 1,
   "metadata": {
    "collapsed": true
   },
   "outputs": [],
   "source": [
    "# Required libraries are imported\n",
    "\n",
    "import pandas as pd\n",
    "import numpy as np\n",
    "import matplotlib as plt\n",
    "from scipy.sparse import csr_matrix\n",
    "from sklearn.neighbors import NearestNeighbors\n",
    "\n",
    "import warnings\n",
    "warnings.filterwarnings('ignore')"
   ]
  },
  {
   "cell_type": "code",
   "execution_count": 2,
   "metadata": {
    "collapsed": true
   },
   "outputs": [],
   "source": [
    "# Data and the required columns are loaded\n",
    "\n",
    "cols = ['Unnamed: 0','Unnamed: 0.1','QueryTime','QuerySeq','AvatarID','Guild','Level','Race','Class','Zone']\n",
    "df = pd.read_csv(\"logs_sample.csv\", names = cols, usecols = ['AvatarID','Guild','Level','Race','Class'])"
   ]
  },
  {
   "cell_type": "markdown",
   "metadata": {},
   "source": [
    "#### Loaded data needs to be seperately treated\n",
    "Race & Class patterns for each Avatar ID are grouped and a new Column RaceClassCount is created. Likewise, Guild and Avatar ID are grouped to create a new column GuildCount"
   ]
  },
  {
   "cell_type": "code",
   "execution_count": 3,
   "metadata": {
    "collapsed": true
   },
   "outputs": [],
   "source": [
    "df_rc = df.groupby(['AvatarID','Race','Class']).size().reset_index()\n",
    "#df_g = df.groupby(['AvatarID','Guild']).size().reset_index()\n",
    "df = df.groupby(['AvatarID','Guild','Level','Race','Class']).size().reset_index()"
   ]
  },
  {
   "cell_type": "code",
   "execution_count": 4,
   "metadata": {
    "collapsed": true
   },
   "outputs": [],
   "source": [
    "df_rc.rename(columns = {0: 'RaceClassCount'},  inplace=True)\n",
    "#df_g.rename(columns = {0: 'GuildCount'},  inplace=True)\n",
    "df.rename(columns = {0: 'PatternCount'},  inplace=True)"
   ]
  },
  {
   "cell_type": "markdown",
   "metadata": {},
   "source": [
    "Under all races same classes are there and we cannot count them seperately. So first, a Race Flag is created with unique number value and then a Class Flag with again unique values, such that when they are totalled they give unique values for Race and Class combinations."
   ]
  },
  {
   "cell_type": "code",
   "execution_count": 5,
   "metadata": {
    "collapsed": true
   },
   "outputs": [],
   "source": [
    "def addraceflag(x):\n",
    "    if x == ' Blood Elf':\n",
    "        return 15\n",
    "    elif x == ' Orc':\n",
    "        return 3\n",
    "    elif x == ' Tauren':\n",
    "        return 6\n",
    "    elif x == ' Troll':\n",
    "        return 9\n",
    "    elif x == ' Undead':\n",
    "        return 12"
   ]
  },
  {
   "cell_type": "code",
   "execution_count": 6,
   "metadata": {
    "collapsed": true
   },
   "outputs": [],
   "source": [
    "df_rc['RaceFlag'] = df_rc.apply(lambda col: addraceflag(col['Race']), axis = 1)"
   ]
  },
  {
   "cell_type": "code",
   "execution_count": 7,
   "metadata": {
    "collapsed": true
   },
   "outputs": [],
   "source": [
    "def addclassflag(x):\n",
    "    if x == ' Warrior':\n",
    "        return 10\n",
    "    elif x == ' Hunter':\n",
    "        return 30\n",
    "    elif x == ' Rogue':\n",
    "        return 50\n",
    "    elif x == ' Paladin':\n",
    "        return 90\n",
    "    elif x == ' Death Knight':\n",
    "        return 100\n",
    "    elif x == ' Shaman':\n",
    "        return 20\n",
    "    elif x == ' Warlock':\n",
    "        return 40\n",
    "    elif x == ' Druid':\n",
    "        return 60\n",
    "    elif x == ' Mage':\n",
    "        return 70\n",
    "    elif x == ' Priest':\n",
    "        return 80"
   ]
  },
  {
   "cell_type": "code",
   "execution_count": 8,
   "metadata": {
    "collapsed": true
   },
   "outputs": [],
   "source": [
    "df_rc['ClassFlag'] = df_rc.apply(lambda col: addclassflag(col['Class']), axis = 1)"
   ]
  },
  {
   "cell_type": "code",
   "execution_count": 9,
   "metadata": {
    "collapsed": true
   },
   "outputs": [],
   "source": [
    "def addraceclass(row):\n",
    "    if row['RaceFlag'] + row['ClassFlag'] == 25:\n",
    "        return 'BloodElf & Warrior'\n",
    "    elif row['RaceFlag'] + row['ClassFlag'] == 35:\n",
    "        return 'Blood Elf & Shaman'\n",
    "    elif row['RaceFlag'] + row['ClassFlag'] == 45:\n",
    "        return 'Blood Elf & Hunter'\n",
    "    elif row['RaceFlag'] + row['ClassFlag'] == 55:\n",
    "        return 'Blood Elf & Warlock'\n",
    "    elif row['RaceFlag'] + row['ClassFlag'] == 65:\n",
    "        return 'Blood Elf & Rogue'\n",
    "    elif row['RaceFlag'] + row['ClassFlag'] == 75:\n",
    "        return 'Blood Elf & Druid'\n",
    "    elif row['RaceFlag'] + row['ClassFlag'] == 85:\n",
    "        return 'Blood Elf & Mage'\n",
    "    elif row['RaceFlag'] + row['ClassFlag'] == 95:\n",
    "        return 'Blood Elf & Priest'\n",
    "    elif row['RaceFlag'] + row['ClassFlag'] == 105:\n",
    "        return 'Blood Elf & Paladin'\n",
    "    elif row['RaceFlag'] + row['ClassFlag'] == 115:\n",
    "        return 'Blood Elf & Knight'\n",
    "    elif row['RaceFlag'] + row['ClassFlag'] == 13:\n",
    "        return 'Orc & Warrior'\n",
    "    elif row['RaceFlag'] + row['ClassFlag'] == 23:\n",
    "        return 'Orc & Shaman'\n",
    "    elif row['RaceFlag'] + row['ClassFlag'] == 33:\n",
    "        return 'Orc & Hunter'\n",
    "    elif row['RaceFlag'] + row['ClassFlag'] == 43:\n",
    "        return 'Orc & Warlock'\n",
    "    elif row['RaceFlag'] + row['ClassFlag'] == 53:\n",
    "        return 'Orc & Rogue'\n",
    "    elif row['RaceFlag'] + row['ClassFlag'] == 63:\n",
    "        return 'Orc & Druid'\n",
    "    elif row['RaceFlag'] + row['ClassFlag'] == 73:\n",
    "        return 'Orc & Mage'\n",
    "    elif row['RaceFlag'] + row['ClassFlag'] == 83:\n",
    "        return 'Orc & Priest'\n",
    "    elif row['RaceFlag'] + row['ClassFlag'] == 93:\n",
    "        return 'Orc & Paladin'\n",
    "    elif row['RaceFlag'] + row['ClassFlag'] == 103:\n",
    "        return 'Orc & Knight'\n",
    "    elif row['RaceFlag'] + row['ClassFlag'] == 16:\n",
    "        return 'Tauren & Warrior'\n",
    "    elif row['RaceFlag'] + row['ClassFlag'] == 26:\n",
    "        return 'Tauren & Shaman'\n",
    "    elif row['RaceFlag'] + row['ClassFlag'] == 36:\n",
    "        return 'Tauren & Hunter'\n",
    "    elif row['RaceFlag'] + row['ClassFlag'] == 46:\n",
    "        return 'Tauren & Warlock'\n",
    "    elif row['RaceFlag'] + row['ClassFlag'] == 56:\n",
    "        return 'Tauren & Rogue'\n",
    "    elif row['RaceFlag'] + row['ClassFlag'] == 66:\n",
    "        return 'Tauren & Druid'\n",
    "    elif row['RaceFlag'] + row['ClassFlag'] == 76:\n",
    "        return 'Tauren & Mage'\n",
    "    elif row['RaceFlag'] + row['ClassFlag'] == 86:\n",
    "        return 'Tauren & Priest'\n",
    "    elif row['RaceFlag'] + row['ClassFlag'] == 96:\n",
    "        return 'Tauren & Paladin'\n",
    "    elif row['RaceFlag'] + row['ClassFlag'] == 106:\n",
    "        return 'Tauren & Knight'\n",
    "    elif row['RaceFlag'] + row['ClassFlag'] == 19:\n",
    "        return 'Troll & Warrior'\n",
    "    elif row['RaceFlag'] + row['ClassFlag'] == 29:\n",
    "        return 'Troll & Shaman'\n",
    "    elif row['RaceFlag'] + row['ClassFlag'] == 39:\n",
    "        return 'Troll & Hunter'\n",
    "    elif row['RaceFlag'] + row['ClassFlag'] == 49:\n",
    "        return 'Troll & Warlock'\n",
    "    elif row['RaceFlag'] + row['ClassFlag'] == 59:\n",
    "        return 'Troll & Rogue'\n",
    "    elif row['RaceFlag'] + row['ClassFlag'] == 69:\n",
    "        return 'Troll & Druid'\n",
    "    elif row['RaceFlag'] + row['ClassFlag'] == 79:\n",
    "        return 'Troll & Mage'\n",
    "    elif row['RaceFlag'] + row['ClassFlag'] == 89:\n",
    "        return 'Troll & Priest'\n",
    "    elif row['RaceFlag'] + row['ClassFlag'] == 99:\n",
    "        return 'Troll & Paladin'\n",
    "    elif row['RaceFlag'] + row['ClassFlag'] == 109:\n",
    "        return 'Troll & Knight'\n",
    "    elif row['RaceFlag'] + row['ClassFlag'] == 22:\n",
    "        return 'Undead & Warrior'\n",
    "    elif row['RaceFlag'] + row['ClassFlag'] == 32:\n",
    "        return 'Undead & Shaman'\n",
    "    elif row['RaceFlag'] + row['ClassFlag'] == 42:\n",
    "        return 'Undead & Hunter'\n",
    "    elif row['RaceFlag'] + row['ClassFlag'] == 52:\n",
    "        return 'Undead & Warlock'\n",
    "    elif row['RaceFlag'] + row['ClassFlag'] == 62:\n",
    "        return 'Undead & Rogue'\n",
    "    elif row['RaceFlag'] + row['ClassFlag'] == 72:\n",
    "        return 'Undead & Druid'\n",
    "    elif row['RaceFlag'] + row['ClassFlag'] == 82:\n",
    "        return 'Undead & Mage'\n",
    "    elif row['RaceFlag'] + row['ClassFlag'] == 92:\n",
    "        return 'Undead & Priest'\n",
    "    elif row['RaceFlag'] + row['ClassFlag'] == 102:\n",
    "        return 'Undead & Paladin'\n",
    "    elif row['RaceFlag'] + row['ClassFlag'] == 112:\n",
    "        return 'Undead & Knight'"
   ]
  },
  {
   "cell_type": "code",
   "execution_count": 10,
   "metadata": {
    "collapsed": true
   },
   "outputs": [],
   "source": [
    "df_rc['RaceClass'] = df_rc.apply (lambda row: addraceclass (row),axis=1)"
   ]
  },
  {
   "cell_type": "markdown",
   "metadata": {},
   "source": [
    "Once the new column RaceClass is created, create a new dataframe with only required columns. AvatarID, RaceClass and RaceClassCount. "
   ]
  },
  {
   "cell_type": "code",
   "execution_count": 11,
   "metadata": {
    "collapsed": true
   },
   "outputs": [],
   "source": [
    "df_rc_final = df_rc[['AvatarID','RaceClass','RaceClassCount']]"
   ]
  },
  {
   "cell_type": "markdown",
   "metadata": {},
   "source": [
    "Create another new column Guild Flag to see how many users are actually part of Guilds. Assign 0 for Usrs with no Guild and 1 for Users with Guilds"
   ]
  },
  {
   "cell_type": "code",
   "execution_count": 12,
   "metadata": {
    "collapsed": true
   },
   "outputs": [],
   "source": [
    "def addguildflag(x):\n",
    "    if x== ' ':\n",
    "        return 0\n",
    "    else:\n",
    "        return 1"
   ]
  },
  {
   "cell_type": "code",
   "execution_count": 13,
   "metadata": {
    "collapsed": true
   },
   "outputs": [],
   "source": [
    "df['GuildFlag'] = df.apply(lambda col: addguildflag(col['Guild']), axis = 1)"
   ]
  },
  {
   "cell_type": "markdown",
   "metadata": {},
   "source": [
    "Remove the users with no Guilds as we cannot recommend Guilds for them following the same process. For Users playing in Guilds already we will recommend new Guilds."
   ]
  },
  {
   "cell_type": "code",
   "execution_count": 14,
   "metadata": {
    "collapsed": true
   },
   "outputs": [],
   "source": [
    "#df_nog = df_g['Guild'] == ' '\n",
    "#df_g_final = df_g[~df_nog]\n",
    "\n",
    "df_g = df['Guild'] >='0'\n",
    "df_no_g = df[~df_g]\n",
    "df_g = df[df_g]"
   ]
  },
  {
   "cell_type": "code",
   "execution_count": 15,
   "metadata": {
    "collapsed": true
   },
   "outputs": [],
   "source": [
    "df_no_g = df_no_g[['AvatarID','Level','Guild','PatternCount']]\n",
    "df_g = df_g[['AvatarID','Level','Guild','PatternCount']]"
   ]
  },
  {
   "cell_type": "code",
   "execution_count": 16,
   "metadata": {},
   "outputs": [
    {
     "name": "stdout",
     "output_type": "stream",
     "text": [
      "Initial dataframe shape (32902, 4)\n",
      "New dataframe shape (14953, 4)\n",
      "Removed 17949 rows\n"
     ]
    }
   ],
   "source": [
    "if not df_no_g[df_no_g.duplicated(['AvatarID', 'Guild'])].empty:\n",
    "    initial_rows = df_no_g.shape[0]\n",
    "    print('Initial dataframe shape {0}'.format(df_no_g.shape))\n",
    "    df_no_g = df_no_g.drop_duplicates(['AvatarID', 'Guild'])\n",
    "    current_rows = df_no_g.shape[0]\n",
    "    print('New dataframe shape {0}'.format(df_no_g.shape))\n",
    "    print('Removed {0} rows'.format(initial_rows - current_rows))"
   ]
  },
  {
   "cell_type": "code",
   "execution_count": 17,
   "metadata": {},
   "outputs": [
    {
     "name": "stdout",
     "output_type": "stream",
     "text": [
      "Initial dataframe shape (71538, 4)\n",
      "New dataframe shape (19900, 4)\n",
      "Removed 51638 rows\n"
     ]
    }
   ],
   "source": [
    "if not df_g[df_g.duplicated(['AvatarID', 'Guild'])].empty:\n",
    "    initial_rows = df_g.shape[0]\n",
    "    print('Initial dataframe shape {0}'.format(df_g.shape))\n",
    "    df_g = df_g.drop_duplicates(['AvatarID', 'Guild'])\n",
    "    current_rows = df_g.shape[0]\n",
    "    print('New dataframe shape {0}'.format(df_g.shape))\n",
    "    print('Removed {0} rows'.format(initial_rows - current_rows))"
   ]
  },
  {
   "cell_type": "markdown",
   "metadata": {},
   "source": [
    "Change the Dataframe to User Item matrix and then a Similarity matrix.\n",
    "\n",
    "A distance metric commonly used in recommender systems is cosine similarity, where the ratings are seen as vectors in n-dimensional space and the similarity is calculated based on the angle between these vectors."
   ]
  },
  {
   "cell_type": "code",
   "execution_count": 18,
   "metadata": {
    "collapsed": true
   },
   "outputs": [],
   "source": [
    "wide_df_g = df_g.pivot(index = 'Guild', columns = 'AvatarID', values = 'PatternCount').fillna(0)\n",
    "wide_df_rc = df_rc_final.pivot(index = 'RaceClass', columns = 'AvatarID', values = 'RaceClassCount').fillna(0)"
   ]
  },
  {
   "cell_type": "code",
   "execution_count": 19,
   "metadata": {
    "collapsed": true
   },
   "outputs": [],
   "source": [
    "wide_df_rc_sparse = csr_matrix(wide_df_rc.values)\n",
    "wide_df_g_sparse = csr_matrix(wide_df_g.values)"
   ]
  },
  {
   "cell_type": "markdown",
   "metadata": {},
   "source": [
    "Create a KNN model Cosine matric sepeartely for Race & Class and Guild recommenders fit the models to the similarity matirx we created."
   ]
  },
  {
   "cell_type": "code",
   "execution_count": 20,
   "metadata": {},
   "outputs": [
    {
     "data": {
      "text/plain": [
       "NearestNeighbors(algorithm='brute', leaf_size=30, metric='cosine',\n",
       "         metric_params=None, n_jobs=1, n_neighbors=5, p=2, radius=1.0)"
      ]
     },
     "execution_count": 20,
     "metadata": {},
     "output_type": "execute_result"
    }
   ],
   "source": [
    "model_rc = NearestNeighbors(metric = 'cosine', algorithm = 'brute')\n",
    "model_g = NearestNeighbors(metric = 'cosine', algorithm = 'brute')\n",
    "model_rc.fit(wide_df_rc_sparse)\n",
    "model_g.fit(wide_df_g_sparse)"
   ]
  },
  {
   "cell_type": "markdown",
   "metadata": {},
   "source": [
    "Create 2 sepearte functions for Race & Class and Guild recommenders.\n",
    "\n",
    "For ramdomly queried index we will get the nearest neighbors from the above KNN model and recommend to User with the randomly queried index."
   ]
  },
  {
   "cell_type": "code",
   "execution_count": 21,
   "metadata": {
    "collapsed": true
   },
   "outputs": [],
   "source": [
    "def raceclass_recommender(wide_df_rc_sparse,wide_df_rc):\n",
    "    \n",
    "    query_index = np.random.choice(wide_df_rc.shape[0])\n",
    "    print ('Hello {0}!! \\n'.format(wide_df_rc.columns[query_index]))\n",
    "    distances, indices = model_rc.kneighbors(wide_df_rc.iloc[query_index, :].reshape(1, -1), n_neighbors = 6)\n",
    "        \n",
    "    for i in range(0, len(distances.flatten())):\n",
    "        if i == 0:\n",
    "            print ('Below are recommendations for Race and Class combinations:\\n')\n",
    "        else:\n",
    "            print ('{0}: {1}, with distance of {2}:'.format(i, wide_df_rc.index[indices.flatten()[i]], distances.flatten()[i]))                            "
   ]
  },
  {
   "cell_type": "code",
   "execution_count": 22,
   "metadata": {
    "collapsed": true
   },
   "outputs": [],
   "source": [
    "def guild_recommender(wide_df_g_sparse,wide_df_g):\n",
    "    \n",
    "    query_index_g = np.random.choice(wide_df_g.shape[0])\n",
    "    print ('Hello {0}!! \\n'.format(wide_df_g.columns[query_index_g]))\n",
    "    distances_g, indices_g = model_g.kneighbors(wide_df_g.iloc[query_index_g, :].reshape(1, -1), n_neighbors = 6)\n",
    "    \n",
    "    for i in range(0, len(distances_g.flatten())):\n",
    "        if i == 0:\n",
    "            print ('Below are new Guild Recommendations:\\n') \n",
    "        else:\n",
    "            print ('{0}: {1} Guild, with distance of {2}:'.format(i, wide_df_g.index[indices_g.flatten()[i]], distances_g.flatten()[i]))"
   ]
  },
  {
   "cell_type": "markdown",
   "metadata": {},
   "source": [
    "Recommend Guilds for new users or users who are not part of any Guilds.\n",
    "\n",
    "For a randomly selected User with no Guild, take the Level. Take the Guilds of the same Level with top Pattern Counts, as they are the Users with Guilds who played more. Recommend those to our User!!"
   ]
  },
  {
   "cell_type": "code",
   "execution_count": 23,
   "metadata": {
    "collapsed": true
   },
   "outputs": [],
   "source": [
    "def guild_recommender_new_users(df_no_g,df_g):\n",
    "    \n",
    "    query_index_no_g = np.random.choice(df_no_g.shape[0])\n",
    "    query_user = df_no_g.iloc[query_index_no_g, :]\n",
    "    df_rec = df_g[df_g['Level'].isin([query_user[1]])]\n",
    "    df_rec=df_rec.sort_values(['PatternCount'], ascending=False).head()\n",
    "    df_rec = df_rec[['Guild','PatternCount']]\n",
    "    df_rec=df_rec.to_dict(orient='list')\n",
    "    print ('Hello {0}!! \\n'.format(query_user[0]))\n",
    "    print ('Below are your Guild Recommendations:\\n')      \n",
    "    print (df_rec['Guild'])"
   ]
  },
  {
   "cell_type": "code",
   "execution_count": 24,
   "metadata": {},
   "outputs": [
    {
     "name": "stdout",
     "output_type": "stream",
     "text": [
      "Hello 7!! \n",
      "\n",
      "Below are recommendations for Race and Class combinations:\n",
      "\n",
      "1: Undead & Rogue, with distance of 0.9999242420478779:\n",
      "2: Blood Elf & Hunter, with distance of 0.9999430869321557:\n",
      "3: Undead & Mage, with distance of 0.9999452786632852:\n",
      "4: Tauren & Warrior, with distance of 0.9999789444668533:\n",
      "5: Blood Elf & Paladin, with distance of 0.9999911328926738:\n"
     ]
    }
   ],
   "source": [
    "raceclass_recommender(wide_df_rc_sparse, wide_df_rc)"
   ]
  },
  {
   "cell_type": "code",
   "execution_count": 29,
   "metadata": {},
   "outputs": [
    {
     "name": "stdout",
     "output_type": "stream",
     "text": [
      "Hello 109!! \n",
      "\n",
      "Below are new Guild Recommendations:\n",
      "\n",
      "1: 235 Guild, with distance of 0.22721195199458677:\n",
      "2: 55 Guild, with distance of 0.5781964490304243:\n",
      "3: 6 Guild, with distance of 0.8795782867505325:\n",
      "4: 0 Guild, with distance of 0.9283130820051884:\n",
      "5: 201 Guild, with distance of 0.9362782951157229:\n"
     ]
    }
   ],
   "source": [
    "guild_recommender(wide_df_g_sparse, wide_df_g)"
   ]
  },
  {
   "cell_type": "code",
   "execution_count": 26,
   "metadata": {},
   "outputs": [
    {
     "name": "stdout",
     "output_type": "stream",
     "text": [
      "Hello 72885!! \n",
      "\n",
      "Below are your Guild Recommendations:\n",
      "\n",
      "['65', '220', '36', '24', '53']\n"
     ]
    }
   ],
   "source": [
    "guild_recommender_new_users(df_no_g,df_g)"
   ]
  },
  {
   "cell_type": "markdown",
   "metadata": {},
   "source": [
    "As in when needed or as required we can recommend one of the below or all in combination to personalize Users game playing experience\n",
    "\n",
    "Race Class combinations\n",
    "New Guilds for users already playing in Guilds\n",
    "Guilds for new Users or Users not playing in Guilds\n",
    "\n",
    "Collaborative filtering produces recommendations based on the knowledge of users’ attitude to items, that is it uses the “wisdom of the crowd” to recommend items.\n",
    "\n",
    "In general, Collaborative filtering is the workhorse of recommender engines."
   ]
  }
 ],
 "metadata": {
  "kernelspec": {
   "display_name": "Python 3",
   "language": "python",
   "name": "python3"
  },
  "language_info": {
   "codemirror_mode": {
    "name": "ipython",
    "version": 3
   },
   "file_extension": ".py",
   "mimetype": "text/x-python",
   "name": "python",
   "nbconvert_exporter": "python",
   "pygments_lexer": "ipython3",
   "version": "3.6.3"
  }
 },
 "nbformat": 4,
 "nbformat_minor": 2
}
