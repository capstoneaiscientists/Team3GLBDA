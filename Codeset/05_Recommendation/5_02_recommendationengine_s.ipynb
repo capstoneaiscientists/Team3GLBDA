{
 "cells": [
  {
   "cell_type": "markdown",
   "metadata": {},
   "source": [
    "<html>\n",
    "<font color = green size = 6>\n",
    "<b>\n",
    "Recommendation Engine\n",
    "</b>\n",
    "</font>\n",
    "</html>"
   ]
  },
  {
   "cell_type": "markdown",
   "metadata": {},
   "source": [
    "<html>\n",
    "<font color = Purple size = 4>\n",
    "<b> Set up the Pyspark environment required for running the model</b>\n",
    "</font>\n",
    "</html>"
   ]
  },
  {
   "cell_type": "code",
   "execution_count": 1,
   "metadata": {
    "collapsed": true
   },
   "outputs": [],
   "source": [
    "#Pyspark setup\n",
    "from pyspark import SparkContext\n",
    "from pyspark.sql import SQLContext\n",
    "from pyspark.sql import Row, SparkSession\n",
    "from pyspark.sql.types import NumericType\n",
    "from pyspark.sql.functions import *"
   ]
  },
  {
   "cell_type": "code",
   "execution_count": 2,
   "metadata": {},
   "outputs": [],
   "source": [
    "sc = SparkContext.getOrCreate()\n",
    "spark = SQLContext(sc)"
   ]
  },
  {
   "cell_type": "markdown",
   "metadata": {},
   "source": [
    "<html>\n",
    "<font color = Red size = 6>\n",
    "<b> Feature Engineering</b>\n",
    "</font>\n",
    "</html>"
   ]
  },
  {
   "cell_type": "markdown",
   "metadata": {},
   "source": [
    "<html>\n",
    "<font color = blue>\n",
    "Load cleaned up log files as a Spark dataframe.\n",
    "</font>\n",
    "</html>"
   ]
  },
  {
   "cell_type": "code",
   "execution_count": 6,
   "metadata": {},
   "outputs": [],
   "source": [
    "newlogs_df = spark.read.csv(path = \"newlogs.csv\", header = True,inferSchema = True)"
   ]
  },
  {
   "cell_type": "markdown",
   "metadata": {},
   "source": [
    "<html>\n",
    "<font color = blue>\n",
    "Data is in minutes for each AvatarID. So, first count AvatarIDs by grouping them into minutes.\n",
    "</font>\n",
    "</html>"
   ]
  },
  {
   "cell_type": "code",
   "execution_count": 7,
   "metadata": {},
   "outputs": [],
   "source": [
    "df2 = newlogs_df.groupBy(['AvatarID','Guild','QueryTime']).count()"
   ]
  },
  {
   "cell_type": "markdown",
   "metadata": {},
   "source": [
    "<html>\n",
    "<font color = blue>\n",
    "Strip time from Query Time.\n",
    "</font>\n",
    "</html>"
   ]
  },
  {
   "cell_type": "code",
   "execution_count": 8,
   "metadata": {},
   "outputs": [],
   "source": [
    "df2 = df2.withColumn('Date', df2['QueryTime'].substr(1,9))"
   ]
  },
  {
   "cell_type": "markdown",
   "metadata": {},
   "source": [
    "<html>\n",
    "<font color = blue>\n",
    "Now, take count of each player by grouping them by Avatar ID and Guild.\n",
    "</font>\n",
    "</html>"
   ]
  },
  {
   "cell_type": "code",
   "execution_count": 27,
   "metadata": {
    "collapsed": true
   },
   "outputs": [],
   "source": [
    "PlayerbyGuild = df2.groupBy(['AvatarID','Guild']).agg({\"AvatarID\": \"count\"})"
   ]
  },
  {
   "cell_type": "code",
   "execution_count": 28,
   "metadata": {},
   "outputs": [],
   "source": [
    "PlayerbyGuild = PlayerbyGuild.withColumnRenamed('count(AvatarID)', 'GamesPlayed')"
   ]
  },
  {
   "cell_type": "code",
   "execution_count": 32,
   "metadata": {},
   "outputs": [
    {
     "data": {
      "text/plain": [
       "122427"
      ]
     },
     "execution_count": 32,
     "metadata": {},
     "output_type": "execute_result"
    }
   ],
   "source": [
    "PlayerbyGuild.drop_duplicates()"
   ]
  },
  {
   "cell_type": "code",
   "execution_count": 66,
   "metadata": {
    "collapsed": true
   },
   "outputs": [],
   "source": [
    "GuildData = PlayerbyGuild.groupby(['Guild']).agg({\"GamesPlayed\": \"sum\"})"
   ]
  },
  {
   "cell_type": "code",
   "execution_count": 68,
   "metadata": {},
   "outputs": [],
   "source": [
    "GuildData = GuildData.withColumnRenamed('sum(GamesPlayed)','GuildGamesPlayed')"
   ]
  },
  {
   "cell_type": "markdown",
   "metadata": {},
   "source": [
    "<html>\n",
    "<font color = blue>\n",
    "Convert Spark dataframe to Pandas.\n",
    "</font>\n",
    "</html>"
   ]
  },
  {
   "cell_type": "code",
   "execution_count": 55,
   "metadata": {
    "collapsed": true
   },
   "outputs": [],
   "source": [
    "import pandas as pd"
   ]
  },
  {
   "cell_type": "code",
   "execution_count": 33,
   "metadata": {},
   "outputs": [],
   "source": [
    "PlayerinGuild = PlayerbyGuild.toPandas()"
   ]
  },
  {
   "cell_type": "code",
   "execution_count": 69,
   "metadata": {
    "collapsed": true
   },
   "outputs": [],
   "source": [
    "GuildGames = GuildData.toPandas()"
   ]
  },
  {
   "cell_type": "code",
   "execution_count": 43,
   "metadata": {},
   "outputs": [],
   "source": [
    "matrix = PlayerinGuild.pivot(index = 'AvatarID', columns = 'Guild', values = 'GamesPlayed').fillna(0)"
   ]
  },
  {
   "cell_type": "code",
   "execution_count": 52,
   "metadata": {},
   "outputs": [],
   "source": [
    "matrix.drop(u' ',axis=1, inplace=True)"
   ]
  },
  {
   "cell_type": "markdown",
   "metadata": {
    "collapsed": true
   },
   "source": [
    "<html>\n",
    "<font color = Red size = 6>\n",
    "<b> Build Recommendation Model - userbased collaboarative filtering </b>\n",
    "</font>\n",
    "</html>"
   ]
  },
  {
   "cell_type": "code",
   "execution_count": 149,
   "metadata": {},
   "outputs": [],
   "source": [
    "class GuildRecommendar:\n",
    "      #Remove duplicate records \n",
    "        def remove_duplicates(self,inputdata):\n",
    "            initial_rows = inputdata.shape[0]\n",
    "            print('Initial dataframe shape {0}'.format(inputdata.shape))\n",
    "            inputdata = inputdata.drop_duplicates(['AvatarID', 'Guild'])\n",
    "            current_rows = inputdata.shape[0]\n",
    "            print('New dataframe shape {0}'.format(inputdata.shape))\n",
    "            print('Removed {0} rows'.format(initial_rows - current_rows))\n",
    "        \n",
    "        def recommend_Guild(self,usertdataset,guilddataset,user_index,neighbors):\n",
    "            from scipy.sparse import csr_matrix\n",
    "            from sklearn.neighbors import NearestNeighbors\n",
    "            wide_user_data_less_sparse = csr_matrix(usertdataset.values)\n",
    "            model_knn = NearestNeighbors(metric = 'cosine', algorithm = 'brute')\n",
    "            model_knn.fit(wide_user_data_less_sparse)\n",
    "            distances, indices = model_knn.kneighbors(usertdataset.iloc[user_index, :].values.reshape(1, -1), n_neighbors = neighbors)\n",
    "            \n",
    "            total = []\n",
    "            for i in usertdataset.columns:\n",
    "                for j in range(1,neighbors):\n",
    "                    rowname = usertdataset.iloc[indices[0][j]].name\n",
    "                    if usertdataset.loc[usertdataset.iloc[indices[0][0]].name][i] == 0.0:\n",
    "                        if usertdataset.loc[rowname][i] > 0.0:\n",
    "                            totalplay = guilddataset.loc[guilddataset.Guild == i, 'GuildGamesPlayed'].values\n",
    "                            weight = ((1/distances[0][j])*usertdataset.loc[rowname][i])/totalplay\n",
    "                            total.append({'guild': i, 'weight': weight})\n",
    "            df = pd.DataFrame(total)\n",
    "            df.drop_duplicates(['guild'],keep='first',inplace=True)\n",
    "            df.weight = df.weight.astype(float)\n",
    "            df = df.sort_values(['weight'],ascending = False)\n",
    "            df = df[['guild']]\n",
    "            return df\n",
    "        \n",
    "        #Pick a random user to provide as input in recommendation functions\n",
    "        def pickrandomuser(self,usertdataset):\n",
    "            import numpy as np\n",
    "            query_index = np.random.choice(usertdataset.shape[0])\n",
    "            return query_index\n",
    "        \n",
    "        #Pick a random guild to provide as input in recommendation functions\n",
    "        def pickrandomguild(self,usertdataset):\n",
    "            import numpy as np\n",
    "            guildid = np.random.choice(usertdataset.shape[1])\n",
    "            guild = usertdataset.columns[guildid]\n",
    "            return guild\n",
    "        \n",
    "        #Execute this function to check if a user will play in the guild\n",
    "        def willuserplay(self,user_index,guild,usertdataset,guilddataset,neighbors=6):\n",
    "            df2 = self.recommend_Guild(usertdataset,guilddataset,user_index,neighbors)\n",
    "            if (df2.guild==guild).any():\n",
    "                print ('It is very likely that this user will play if he joins Guild: %s' % str(guild))\n",
    "            else:\n",
    "                print ('It is not likely that this user will play if he joins Guild: %s' % str(guild))          \n",
    "         \n",
    "        "
   ]
  },
  {
   "cell_type": "code",
   "execution_count": 143,
   "metadata": {
    "collapsed": true
   },
   "outputs": [],
   "source": [
    "gurec = GuildRecommendar()"
   ]
  },
  {
   "cell_type": "code",
   "execution_count": 135,
   "metadata": {},
   "outputs": [
    {
     "data": {
      "text/plain": [
       "u'268'"
      ]
     },
     "execution_count": 135,
     "metadata": {},
     "output_type": "execute_result"
    }
   ],
   "source": [
    "gurec.pickrandomguild(matrix)"
   ]
  },
  {
   "cell_type": "code",
   "execution_count": 136,
   "metadata": {},
   "outputs": [
    {
     "data": {
      "text/plain": [
       "4224"
      ]
     },
     "execution_count": 136,
     "metadata": {},
     "output_type": "execute_result"
    }
   ],
   "source": [
    "gurec.pickrandomuser(matrix)"
   ]
  },
  {
   "cell_type": "code",
   "execution_count": 148,
   "metadata": {},
   "outputs": [
    {
     "data": {
      "text/html": [
       "<div>\n",
       "<table border=\"1\" class=\"dataframe\">\n",
       "  <thead>\n",
       "    <tr style=\"text-align: right;\">\n",
       "      <th></th>\n",
       "      <th>guild</th>\n",
       "    </tr>\n",
       "  </thead>\n",
       "  <tbody>\n",
       "    <tr>\n",
       "      <th>1</th>\n",
       "      <td>370</td>\n",
       "    </tr>\n",
       "    <tr>\n",
       "      <th>2</th>\n",
       "      <td>9</td>\n",
       "    </tr>\n",
       "    <tr>\n",
       "      <th>0</th>\n",
       "      <td>21</td>\n",
       "    </tr>\n",
       "  </tbody>\n",
       "</table>\n",
       "</div>"
      ],
      "text/plain": [
       "  guild\n",
       "1   370\n",
       "2     9\n",
       "0    21"
      ]
     },
     "execution_count": 148,
     "metadata": {},
     "output_type": "execute_result"
    }
   ],
   "source": [
    "gurec.recommend_Guild(matrix,GuildGames,65436,6)"
   ]
  },
  {
   "cell_type": "code",
   "execution_count": 151,
   "metadata": {},
   "outputs": [
    {
     "name": "stdout",
     "output_type": "stream",
     "text": [
      "It is not likely that this user will play if he joins Guild: 268\n"
     ]
    }
   ],
   "source": [
    "gurec.willuserplay(65436,'268',matrix,GuildGames,6)"
   ]
  },
  {
   "cell_type": "code",
   "execution_count": 150,
   "metadata": {},
   "outputs": [
    {
     "name": "stdout",
     "output_type": "stream",
     "text": [
      "It is very likely that this user will play if he joins Guild: 370\n"
     ]
    }
   ],
   "source": [
    "gurec.willuserplay(65436,'370',matrix,GuildGames,6)"
   ]
  },
  {
   "cell_type": "markdown",
   "metadata": {},
   "source": [
    "<html>\n",
    "<font color = blue size = 4>\n",
    "This recommendation engine will suggest a suitable guild for the user to join and play and thus avoid player churning. <br />\n",
    "</font>\n",
    "</html>"
   ]
  }
 ],
 "metadata": {
  "kernelspec": {
   "display_name": "Python 3",
   "language": "python",
   "name": "python3"
  },
  "language_info": {
   "codemirror_mode": {
    "name": "ipython",
    "version": 3
   },
   "file_extension": ".py",
   "mimetype": "text/x-python",
   "name": "python",
   "nbconvert_exporter": "python",
   "pygments_lexer": "ipython3",
   "version": "3.6.3"
  }
 },
 "nbformat": 4,
 "nbformat_minor": 2
}
